{
 "cells": [
  {
   "cell_type": "markdown",
   "metadata": {},
   "source": [
    "## <center> A Sentiment Analysis model for products based on customers’ textual reviews,” using a Lexicon approach <center>\n",
    "\n",
    "<center>\n",
    "Team 6 \n",
    "\n",
    "Theresa Bennett – 300909345 \n",
    "\n",
    "Daniil Velykyi - ######### \n",
    "\n",
    "Shahzaib Mansoor - ######### \n",
    "\n",
    "Garnett Grant- 301188923 \n",
    "\n",
    "Martel Baylis-Martin- ######### \n",
    "</center>\n",
    " "
   ]
  },
  {
   "cell_type": "markdown",
   "metadata": {},
   "source": [
    "##### Prep "
   ]
  },
  {
   "cell_type": "code",
   "execution_count": 2,
   "metadata": {},
   "outputs": [],
   "source": [
    "import os\n",
    "import pandas as pd\n",
    "import json\n",
    "import matplotlib.pyplot as plt"
   ]
  },
  {
   "cell_type": "code",
   "execution_count": 22,
   "metadata": {},
   "outputs": [],
   "source": [
    "# Get the directory where the script is located\n",
    "script_dir = os.path.dirname(os.path.abspath('nlp_group_project/'))\n",
    "file_path = os.path.join(script_dir, \"Software_5.json\")\n"
   ]
  },
  {
   "cell_type": "code",
   "execution_count": 23,
   "metadata": {},
   "outputs": [],
   "source": [
    "# Read the JSON file line by line into a list\n",
    "data = []\n",
    "with open(file_path, \"r\", encoding=\"utf-8\") as f:\n",
    "    for line in f:\n",
    "        data.append(json.loads(line))\n"
   ]
  },
  {
   "cell_type": "code",
   "execution_count": 24,
   "metadata": {},
   "outputs": [],
   "source": [
    "# Convert to DataFrame\n",
    "df = pd.DataFrame(data)\n"
   ]
  },
  {
   "cell_type": "code",
   "execution_count": 25,
   "metadata": {},
   "outputs": [
    {
     "name": "stdout",
     "output_type": "stream",
     "text": [
      "<class 'pandas.core.frame.DataFrame'>\n",
      "RangeIndex: 12805 entries, 0 to 12804\n",
      "Data columns (total 12 columns):\n",
      " #   Column          Non-Null Count  Dtype  \n",
      "---  ------          --------------  -----  \n",
      " 0   overall         12805 non-null  float64\n",
      " 1   verified        12805 non-null  bool   \n",
      " 2   reviewTime      12805 non-null  object \n",
      " 3   reviewerID      12805 non-null  object \n",
      " 4   asin            12805 non-null  object \n",
      " 5   style           7161 non-null   object \n",
      " 6   reviewerName    12796 non-null  object \n",
      " 7   reviewText      12804 non-null  object \n",
      " 8   summary         12799 non-null  object \n",
      " 9   unixReviewTime  12805 non-null  int64  \n",
      " 10  vote            3902 non-null   object \n",
      " 11  image           71 non-null     object \n",
      "dtypes: bool(1), float64(1), int64(1), object(9)\n",
      "memory usage: 1.1+ MB\n",
      "None\n",
      "   overall  verified   reviewTime      reviewerID        asin  \\\n",
      "0      4.0     False  10 20, 2010  A38NELQT98S4H8  0321719816   \n",
      "1      4.0     False  10 18, 2010  A3QJU4FEN8PQSZ  0321719816   \n",
      "2      5.0     False  10 16, 2010   ACJT8MUC0LRF0  0321719816   \n",
      "3      5.0     False  10 12, 2010   AYUF7YETYOLNX  0321719816   \n",
      "4      5.0     False   10 7, 2010  A31ICLWQ9CSHRS  0321719816   \n",
      "\n",
      "                     style  reviewerName  \\\n",
      "0  {'Format:': ' DVD-ROM'}     WB Halper   \n",
      "1  {'Format:': ' DVD-ROM'}        Grimmy   \n",
      "2  {'Format:': ' DVD-ROM'}     D. Fowler   \n",
      "3  {'Format:': ' DVD-ROM'}  Bryan Newman   \n",
      "4  {'Format:': ' DVD-ROM'}    Al Swanson   \n",
      "\n",
      "                                          reviewText  \\\n",
      "0  I've been using Dreamweaver (and it's predeces...   \n",
      "1  The demo is done with the PC version, with ref...   \n",
      "2  If you've been wanting to learn how to create ...   \n",
      "3  I've been creating websites with Dreamweaver f...   \n",
      "4  I decided (after trying a number of other prod...   \n",
      "\n",
      "                                             summary  unixReviewTime vote  \\\n",
      "0                A solid overview of Dreamweaver CS5      1287532800  NaN   \n",
      "1                                       A good value      1287360000  NaN   \n",
      "2  This is excellent software for those who want ...      1287187200    3   \n",
      "3  A Fantastic Overview of Dream Weaver and Web D...      1286841600  NaN   \n",
      "4                               Excellent Tutorials!      1286409600  NaN   \n",
      "\n",
      "  image  \n",
      "0   NaN  \n",
      "1   NaN  \n",
      "2   NaN  \n",
      "3   NaN  \n",
      "4   NaN  \n"
     ]
    }
   ],
   "source": [
    "# Display basic info\n",
    "print(df.info())  \n",
    "print(df.head())  \n"
   ]
  },
  {
   "cell_type": "markdown",
   "metadata": {},
   "source": [
    "#### 1. Dataset data exploration: List the main finding of the dataset. Be thorough and creative.\n",
    "##### For example, look at:\n",
    "(a) Counts, averages\n",
    "\n",
    "(b) Distribution of the number of reviews across products\n",
    "\n",
    "(c) Distribution of the number of reviews per product\n",
    "\n",
    "(d) Distribution of reviews per user\n",
    "\n",
    "(e) Review lengths and outliers\n",
    "\n",
    "(f) Analyze lengths\n",
    "\n",
    "(g) Check for duplicates"
   ]
  },
  {
   "cell_type": "code",
   "execution_count": 26,
   "metadata": {},
   "outputs": [],
   "source": [
    "# (a) Counts, averages\n",
    "\n",
    "# Count total number of reviews\n",
    "total_reviews = len(df)\n",
    "\n",
    "# Count unique products \n",
    "unique_products = df['asin'].nunique() if 'asin' in df.columns else None\n",
    "\n",
    "# Count unique users \n",
    "unique_users = df['reviewerID'].nunique() if 'reviewerID' in df.columns else None\n",
    "\n",
    "# Compute average reviews per user\n",
    "avg_reviews_per_user = total_reviews / unique_users if unique_users else None\n"
   ]
  },
  {
   "cell_type": "code",
   "execution_count": 27,
   "metadata": {},
   "outputs": [
    {
     "name": "stdout",
     "output_type": "stream",
     "text": [
      "Total Reviews: 12805\n",
      "Unique Products: 802\n",
      "Unique Users: 1826\n",
      "Avg Reviews per User: 7.0125958378970425\n"
     ]
    },
    {
     "data": {
      "image/png": "[encoded data removed]",
      "text/plain": [
       "<Figure size 1000x500 with 1 Axes>"
      ]
     },
     "metadata": {},
     "output_type": "display_data"
    }
   ],
   "source": [
    "# Print results\n",
    "print(f\"Total Reviews: {total_reviews}\")\n",
    "print(f\"Unique Products: {unique_products}\")\n",
    "print(f\"Unique Users: {unique_users}\")\n",
    "print(f\"Avg Reviews per User: {avg_reviews_per_user}\")\n",
    "\n",
    "# (b) Distribution of the number of reviews across products\n",
    "if 'asin' in df.columns:\n",
    "    review_count_per_product = df.groupby('asin')['reviewerID'].count()\n",
    "    plt.figure(figsize=(10,5))\n",
    "    plt.hist(review_count_per_product, bins=50, edgecolor='black')\n",
    "    plt.xlabel('Number of Reviews per Product')\n",
    "    plt.ylabel('Frequency')\n",
    "    plt.title('Distribution of Reviews Across Products')\n",
    "    plt.show()\n"
   ]
  },
  {
   "cell_type": "code",
   "execution_count": null,
   "metadata": {},
   "outputs": [],
   "source": [
    "# (c) Distribution of reviews per product\n",
    "if 'asin' in df.columns:\n",
    "    product_review_distribution = review_count_per_product.describe()\n",
    "    print(\"Product Review Distribution Summary:\")\n",
    "    print(product_review_distribution)\n"
   ]
  },
  {
   "cell_type": "code",
   "execution_count": null,
   "metadata": {},
   "outputs": [],
   "source": [
    "\n",
    "# (d) Distribution of Reviews Per User\n",
    "if 'reviewerID' in df.columns:\n",
    "    review_count_per_user = df.groupby('reviewerID')['asin'].count()\n",
    "    user_review_distribution = review_count_per_user.describe()\n",
    "    print(\"User Review Distribution Summary:\")\n",
    "    print(user_review_distribution)\n",
    "\n",
    "    # Visualize user review distribution\n",
    "    plt.figure(figsize=(10,5))\n",
    "    plt.hist(review_count_per_user, bins=50, edgecolor='black', log=True)\n",
    "    plt.xlabel('Number of Reviews per User')\n",
    "    plt.ylabel('Frequency (Log Scale)')\n",
    "    plt.title('Distribution of Reviews Per User')\n",
    "    plt.show()\n"
   ]
  },
  {
   "cell_type": "code",
   "execution_count": null,
   "metadata": {},
   "outputs": [],
   "source": [
    "\n",
    "# (e) Review lengths and outliers\n",
    "if 'reviewText' in df.columns:\n",
    "    df['review_length'] = df['reviewText'].apply(lambda x: len(x.split()) if isinstance(x, str) else 0)\n",
    "    print(\"Review Length Summary:\")\n",
    "    print(df['review_length'].describe())\n",
    "\n",
    "    # Plot review length distribution\n",
    "    plt.figure(figsize=(10,5))\n",
    "    plt.hist(df['review_length'], bins=50, edgecolor='black', log=True)\n",
    "    plt.xlabel('Review Length (Word Count)')\n",
    "    plt.ylabel('Frequency (Log Scale)')\n",
    "    plt.title('Distribution of Review Lengths')\n",
    "    plt.show()\n"
   ]
  },
  {
   "cell_type": "code",
   "execution_count": null,
   "metadata": {},
   "outputs": [],
   "source": [
    "\n",
    "# (f) Identify outliers in review length\n",
    "q1 = df['review_length'].quantile(0.25)\n",
    "q3 = df['review_length'].quantile(0.75)\n",
    "iqr = q3 - q1\n",
    "lower_bound = q1 - 1.5 * iqr\n",
    "upper_bound = q3 + 1.5 * iqr\n",
    "\n",
    "outliers = df[(df['review_length'] < lower_bound) | (df['review_length'] > upper_bound)]\n",
    "print(f\"Number of Review Length Outliers: {len(outliers)}\")\n"
   ]
  },
  {
   "cell_type": "code",
   "execution_count": null,
   "metadata": {},
   "outputs": [],
   "source": [
    "\n",
    "# (g) Check for duplicate reviews\n",
    "if 'reviewText' in df.columns:\n",
    "    duplicate_reviews = df.duplicated(subset=['reviewerID', 'asin', 'reviewText'], keep=False)\n",
    "    num_duplicates = duplicate_reviews.sum()\n",
    "    print(f\"Number of Duplicate Reviews: {num_duplicates}\")\n",
    "    \n",
    "    # Display some duplicate entries if they exist\n",
    "    if num_duplicates > 0:\n",
    "        print(df[duplicate_reviews].head(10))\n"
   ]
  },
  {
   "cell_type": "markdown",
   "metadata": {},
   "source": [
    "#### 2. Text Basic Pre-Processing\n"
   ]
  },
  {
   "cell_type": "code",
   "execution_count": null,
   "metadata": {},
   "outputs": [],
   "source": [
    "## (a) Label your data based on the value of “rating of the product” i.e. as follows:\n",
    "## i. Ratings 4,5: Positive\n",
    "## ii. Rating 3: Neutral\n",
    "## iii. Ratings 1,2: Negative"
   ]
  },
  {
   "cell_type": "code",
   "execution_count": null,
   "metadata": {},
   "outputs": [],
   "source": [
    "## (b) Chose the appropriate columns for your sentiment analyzer. (Give this some thought) and mention in your report why you chose each column."
   ]
  },
  {
   "cell_type": "code",
   "execution_count": null,
   "metadata": {},
   "outputs": [],
   "source": [
    "## (c) c. Check for outliers"
   ]
  },
  {
   "cell_type": "markdown",
   "metadata": {},
   "source": [
    "#### 3. Study the below three Lexicons packages and choose two for model building justify why you chose them:\n",
    "\n",
    "i. Valence Aware Dictionary and Sentiment Reasoner (VADR) you can find\n",
    "out more information here: https://github.com/cjhutto/vaderSentiment\n",
    "\n",
    "ii. TextBlob you can find out more information here:\n",
    "https://textblob.readthedocs.io/en/dev/quickstart.html\n",
    "\n",
    "iii. SENTIWORDNET you can find more information here:\n",
    "http://nmis.isti.cnr.it/sebastiani/Publications/LREC10.pdf"
   ]
  },
  {
   "cell_type": "markdown",
   "metadata": {},
   "source": []
  },
  {
   "cell_type": "markdown",
   "metadata": {},
   "source": [
    "#### 4. Pre-process your text as needed, justify each pre-processing step for each model you chose. (Note: take into account the findings of step #3 above)"
   ]
  },
  {
   "cell_type": "code",
   "execution_count": null,
   "metadata": {},
   "outputs": [],
   "source": []
  },
  {
   "cell_type": "markdown",
   "metadata": {},
   "source": [
    "#### 5. Randomly select 1000 reviews from your dataset.\n"
   ]
  },
  {
   "cell_type": "code",
   "execution_count": null,
   "metadata": {},
   "outputs": [],
   "source": []
  },
  {
   "cell_type": "markdown",
   "metadata": {},
   "source": [
    "\n",
    "#### 6. Modeling (Sentiment Analysis) Lexicon approach:\n"
   ]
  },
  {
   "cell_type": "code",
   "execution_count": null,
   "metadata": {},
   "outputs": [],
   "source": [
    "\n",
    "## a) Build two sentiment analysis models using the labeled pre-processed data for\n",
    "## both the lexicons packages the team selected in step #3 above.\n"
   ]
  },
  {
   "cell_type": "markdown",
   "metadata": {},
   "source": [
    "\n",
    "#### 7. Validate the results of both models and provide a comparision table.\n"
   ]
  },
  {
   "cell_type": "code",
   "execution_count": null,
   "metadata": {},
   "outputs": [],
   "source": []
  },
  {
   "cell_type": "markdown",
   "metadata": {},
   "source": [
    "\n",
    "#### 8. Presentation: Check project presentation requirements.\n"
   ]
  },
  {
   "cell_type": "code",
   "execution_count": null,
   "metadata": {},
   "outputs": [],
   "source": []
  },
  {
   "cell_type": "markdown",
   "metadata": {},
   "source": [
    "\n",
    "#### 9. Project report: Check project report requirements/ phase #1 (Make sure you refernce your work)\n"
   ]
  },
  {
   "cell_type": "code",
   "execution_count": null,
   "metadata": {},
   "outputs": [],
   "source": []
  },
  {
   "cell_type": "markdown",
   "metadata": {},
   "source": [
    "\n",
    "#### 10. Submit documented code."
   ]
  },
  {
   "cell_type": "code",
   "execution_count": null,
   "metadata": {},
   "outputs": [],
   "source": []
  }
 ],
 "metadata": {
  "kernelspec": {
   "display_name": "Python 3",
   "language": "python",
   "name": "python3"
  },
  "language_info": {
   "codemirror_mode": {
    "name": "ipython",
    "version": 3
   },
   "file_extension": ".py",
   "mimetype": "text/x-python",
   "name": "python",
   "nbconvert_exporter": "python",
   "pygments_lexer": "ipython3",
   "version": "3.12.1"
  }
 },
 "nbformat": 4,
 "nbformat_minor": 2
}
