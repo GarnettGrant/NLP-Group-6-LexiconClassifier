{
 "cells": [
  {
   "cell_type": "markdown",
   "metadata": {},
   "source": [
    "## <center> A Sentiment Analysis model for products based on customers’ textual reviews,” using a Lexicon approach <center>\n",
    "\n",
    "<center>\n",
    "Team 6 \n",
    "\n",
    "Theresa Bennett – 300909345 \n",
    "\n",
    "Daniil Velykyi - 301183618 \n",
    "\n",
    "Shahzaib Mansoor - ######### \n",
    "\n",
    "Garnett Grant - 301188923 \n",
    "\n",
    "Martel Baylis-Martin- ######### \n",
    "</center>\n",
    " "
   ]
  },
  {
   "cell_type": "markdown",
   "metadata": {},
   "source": [
    "##### Prep "
   ]
  },
  {
   "cell_type": "code",
   "metadata": {}
   },
   "source": [
    "import os\n",
    "import pandas as pd\n",
    "import json\n",
    "import matplotlib.pyplot as plt"
   ],
   "outputs": [],
   "execution_count": 7
  },
  {
   "cell_type": "code",
   "metadata": {}
   },
   "source": [
    "# Get the directory where the script is located\n",
    "script_dir = os.path.dirname(os.path.abspath('__file__'))\n",
    "file_path = os.path.join(script_dir, \"Software_5.json\")\n"
   ],
   "outputs": [],
   "execution_count": 8
  },
  {
   "cell_type": "code",
   "metadata": {}
   },
   "source": [
    "# Read the JSON file line by line into a list\n",
    "data = []\n",
    "with open(file_path, \"r\", encoding=\"utf-8\") as f:\n",
    "    for line in f:\n",
    "        data.append(json.loads(line))\n"
   ],
   "outputs": [],
   "execution_count": 9
  },
  {
   "cell_type": "code",
   "metadata": {}
   },
   "source": [
    "# Convert to DataFrame\n",
    "df = pd.DataFrame(data)\n"
   ],
   "outputs": [],
   "execution_count": 10
  },
  {
   "cell_type": "code",
   "metadata": {}
   },
   "source": [
    "# Display basic info\n",
    "print(df.info())  \n",
    "print(df.head())  \n"
   ],
   "outputs": [
    {
     "name": "stdout",
     "output_type": "stream",
     "text": [
      "<class 'pandas.core.frame.DataFrame'>\n",
      "RangeIndex: 12805 entries, 0 to 12804\n",
      "Data columns (total 12 columns):\n",
      " #   Column          Non-Null Count  Dtype  \n",
      "---  ------          --------------  -----  \n",
      " 0   overall         12805 non-null  float64\n",
      " 1   verified        12805 non-null  bool   \n",
      " 2   reviewTime      12805 non-null  object \n",
      " 3   reviewerID      12805 non-null  object \n",
      " 4   asin            12805 non-null  object \n",
      " 5   style           7161 non-null   object \n",
      " 6   reviewerName    12796 non-null  object \n",
      " 7   reviewText      12804 non-null  object \n",
      " 8   summary         12799 non-null  object \n",
      " 9   unixReviewTime  12805 non-null  int64  \n",
      " 10  vote            3902 non-null   object \n",
      " 11  image           71 non-null     object \n",
      "dtypes: bool(1), float64(1), int64(1), object(9)\n",
      "memory usage: 1.1+ MB\n",
      "None\n",
      "   overall  verified   reviewTime      reviewerID        asin  \\\n",
      "0      4.0     False  10 20, 2010  A38NELQT98S4H8  0321719816   \n",
      "1      4.0     False  10 18, 2010  A3QJU4FEN8PQSZ  0321719816   \n",
      "2      5.0     False  10 16, 2010   ACJT8MUC0LRF0  0321719816   \n",
      "3      5.0     False  10 12, 2010   AYUF7YETYOLNX  0321719816   \n",
      "4      5.0     False   10 7, 2010  A31ICLWQ9CSHRS  0321719816   \n",
      "\n",
      "                     style  reviewerName  \\\n",
      "0  {'Format:': ' DVD-ROM'}     WB Halper   \n",
      "1  {'Format:': ' DVD-ROM'}        Grimmy   \n",
      "2  {'Format:': ' DVD-ROM'}     D. Fowler   \n",
      "3  {'Format:': ' DVD-ROM'}  Bryan Newman   \n",
      "4  {'Format:': ' DVD-ROM'}    Al Swanson   \n",
      "\n",
      "                                          reviewText  \\\n",
      "0  I've been using Dreamweaver (and it's predeces...   \n",
      "1  The demo is done with the PC version, with ref...   \n",
      "2  If you've been wanting to learn how to create ...   \n",
      "3  I've been creating websites with Dreamweaver f...   \n",
      "4  I decided (after trying a number of other prod...   \n",
      "\n",
      "                                             summary  unixReviewTime vote  \\\n",
      "0                A solid overview of Dreamweaver CS5      1287532800  NaN   \n",
      "1                                       A good value      1287360000  NaN   \n",
      "2  This is excellent software for those who want ...      1287187200    3   \n",
      "3  A Fantastic Overview of Dream Weaver and Web D...      1286841600  NaN   \n",
      "4                               Excellent Tutorials!      1286409600  NaN   \n",
      "\n",
      "  image  \n",
      "0   NaN  \n",
      "1   NaN  \n",
      "2   NaN  \n",
      "3   NaN  \n",
      "4   NaN  \n"
     ]
    }
   ],
   "execution_count": 11
  },
  {
   "cell_type": "markdown",
   "metadata": {},
   "source": [
    "#### 1. Dataset data exploration: List the main finding of the dataset. Be thorough and creative.\n",
    "##### For example, look at:\n",
    "(a) Counts, averages\n",
    "\n",
    "(b) Distribution of the number of reviews across products\n",
    "\n",
    "(c) Distribution of the number of reviews per product\n",
    "\n",
    "(d) Distribution of reviews per user\n",
    "\n",
    "(e) Review lengths and outliers\n",
    "\n",
    "(f) Analyze lengths\n",
    "\n",
    "(g) Check for duplicates"
   ]
  },
  {
   "cell_type": "code",
   "metadata": {}
   },
   "source": [
    "# (a) Counts, averages\n",
    "\n",
    "# Count total number of reviews\n",
    "total_reviews = len(df)\n",
    "\n",
    "# Count unique products \n",
    "unique_products = df['asin'].nunique() if 'asin' in df.columns else None\n",
    "\n",
    "# Count unique users \n",
    "unique_users = df['reviewerID'].nunique() if 'reviewerID' in df.columns else None\n",
    "\n",
    "# Compute average reviews per user\n",
    "avg_reviews_per_user = total_reviews / unique_users if unique_users else None\n",
    "\n",
    "# Print results\n",
    "print(f\"Total Reviews: {total_reviews}\")\n",
    "print(f\"Unique Products: {unique_products}\")\n",
    "print(f\"Unique Users: {unique_users}\")\n",
    "print(f\"Avg Reviews per User: {avg_reviews_per_user}\")\n",
    "\n"
   ],
   "outputs": [
    {
     "name": "stdout",
     "output_type": "stream",
     "text": [
      "Total Reviews: 12805\n",
      "Unique Products: 802\n",
      "Unique Users: 1826\n",
      "Avg Reviews per User: 7.0125958378970425\n"
     ]
    }
   ],
   "execution_count": 12
  },
  {
   "cell_type": "code",
   "metadata": {}
   },
   "source": [
    "# (b) Distribution of the number of reviews across products\n",
    "if 'asin' in df.columns:\n",
    "    review_count_per_product = df.groupby('asin')['reviewerID'].count()\n",
    "    plt.figure(figsize=(10,5))\n",
    "    plt.hist(review_count_per_product, bins=50, edgecolor='black')\n",
    "    plt.xlabel('Number of Reviews per Product')\n",
    "    plt.ylabel('Frequency')\n",
    "    plt.title('Distribution of Reviews Across Products')\n",
    "    plt.show()\n"
   ],
   "outputs": [
    {
     "data": {
      "text/plain": [
       "<Figure size 1000x500 with 1 Axes>"
      ],
      "image/png": "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"
     },
     "metadata": {},
     "output_type": "display_data"
    }
   ],
   "execution_count": 13
  },
  {
   "cell_type": "code",
   "metadata": {}
   },
   "source": [
    "# (c) Distribution of reviews per product\n",
    "if 'asin' in df.columns:\n",
    "    product_review_distribution = review_count_per_product.describe()\n",
    "    print(\"Product Review Distribution Summary:\")\n",
    "    print(product_review_distribution)\n"
   ],
   "outputs": [
    {
     "name": "stdout",
     "output_type": "stream",
     "text": [
      "Product Review Distribution Summary:\n",
      "count    802.000000\n",
      "mean      15.966334\n",
      "std       23.508335\n",
      "min        1.000000\n",
      "25%        6.000000\n",
      "50%       12.000000\n",
      "75%       19.000000\n",
      "max      452.000000\n",
      "Name: reviewerID, dtype: float64\n"
     ]
    }
   ],
   "execution_count": 14
  },
  {
   "cell_type": "code",
   "metadata": {}
   },
   "source": [
    "# (d) Distribution of Reviews Per User\n",
    "if 'reviewerID' in df.columns:\n",
    "    review_count_per_user = df.groupby('reviewerID')['asin'].count()\n",
    "    user_review_distribution = review_count_per_user.describe()\n",
    "    print(\"User Review Distribution Summary:\")\n",
    "    print(user_review_distribution)\n",
    "\n",
    "    # Visualize user review distribution\n",
    "    plt.figure(figsize=(10,5))\n",
    "    plt.hist(review_count_per_user, bins=50, edgecolor='black', log=True)\n",
    "    plt.xlabel('Number of Reviews per User')\n",
    "    plt.ylabel('Frequency (Log Scale)')\n",
    "    plt.title('Distribution of Reviews Per User')\n",
    "    plt.show()\n"
   ],
   "outputs": [
    {
     "name": "stdout",
     "output_type": "stream",
     "text": [
      "User Review Distribution Summary:\n",
      "count    1826.000000\n",
      "mean        7.012596\n",
      "std         3.641218\n",
      "min         1.000000\n",
      "25%         5.000000\n",
      "50%         6.000000\n",
      "75%         8.000000\n",
      "max        55.000000\n",
      "Name: asin, dtype: float64\n"
     ]
    },
    {
     "data": {
      "text/plain": [
       "<Figure size 1000x500 with 1 Axes>"
      ],
      "image/png": "iVBORw0KGgoAAAANSUhEUgAAA1EAAAHUCAYAAADbZ6LoAAAAOXRFWHRTb2Z0d2FyZQBNYXRwbG90bGliIHZlcnNpb24zLjguMCwgaHR0cHM6Ly9tYXRwbG90bGliLm9yZy81sbWrAAAACXBIWXMAAA9hAAAPYQGoP6dpAABRi0lEQVR4nO3deVxV1f7/8fdRZgQUUBAZMsfQxBzKIeehnDLNe23QNPWW3zA1tXlQGxwqzQY0za42mnVLb5lXIzW1rBsOZAmZM84KDogKKKzfH/44txNobDx4wPN6Ph48Lmftvfb6nMOC67u999o2Y4wRAAAAAKBYKri6AAAAAAAoTwhRAAAAAGABIQoAAAAALCBEAQAAAIAFhCgAAAAAsIAQBQAAAAAWEKIAAAAAwAJCFAAAAABYQIgCAAAAAAsIUQDc0vz582Wz2exfPj4+Cg8PV4cOHTR58mQdOXKkUJ8JEybIZrNZGufMmTOaMGGCvv32W0v9ihrrmmuuUc+ePS0d56989NFHmjFjRpHbbDabJkyY4NTxnG3FihVq1qyZ/P39ZbPZtHjx4iL32717t8PPu0KFCqpSpYo6deqkr7/+ulRrLBh7/vz5pTqOMxTMu4IvLy8v1axZU6NGjdKJEydKffz27durYcOGRW5LT08vF3MSgHvwcHUBAOBK8+bNU/369XXu3DkdOXJE3333naZOnapXXnlFCxcuVOfOne37Dhs2TLfeequl4585c0YTJ06UdOEfiMVVkrFK4qOPPtKvv/6q0aNHF9r2ww8/KDIystRrKCljjP7+97+rbt26+uKLL+Tv76969epdss9DDz2ku+++W3l5efrtt980ceJEde/eXStXrlTbtm1Lpc7q1avrhx9+UK1atUrl+KVh2bJlCgoK0qlTp7R06VK99tpr+umnn7Ru3TrL/yEBAK5GhCgAbq1hw4Zq1qyZ/fUdd9yhhx9+WDfffLP69u2rbdu2KSwsTJIUGRlZ6qHizJkz8vPzuyJj/ZUWLVq4dPy/cuDAAR07dkx9+vRRp06ditUnOjra/r5at26tOnXqqF27dnrnnXdKLUR5e3uX+c/yz5o2barQ0FBJUpcuXZSRkaH3339f69atU+vWrS/r2GfPnpWvr68zyix1Bb+PAPBnXM4HAH8SHR2tadOm6dSpU5o9e7a9vahL7FauXKn27dsrJCREvr6+io6O1h133KEzZ85o9+7dqlq1qiRp4sSJ9kukBg8e7HC8jRs3ql+/fqpSpYr9bMWlLh1ctGiRGjVqJB8fH1177bV6/fXXHbYXXKq4e/duh/Zvv/1WNpvNfmlh+/bt9dVXX2nPnj0Ol3AVKOrSqV9//VW9e/dWlSpV5OPjo8aNG+vdd98tcpwFCxboqaeeUkREhAIDA9W5c2dt3br14h/8H3z33Xfq1KmTAgIC5Ofnp1atWumrr76yb58wYYI9ZD722GOy2Wy65pprinXsPyoI0IcPH3ZoP3TokB544AFFRkbaL2mbOHGizp8/L0k6d+6cqlWrpoEDBxY65okTJ+Tr66sxY8ZIuvjlfNu2bdPdd9+tatWqydvbW9ddd50SEhLs240xCgsLU3x8vL0tLy9PVapUUYUKFRxqnj59ujw8POyX3O3cuVN33nmnIiIi5O3trbCwMHXq1EnJycmWPyPpf4F6z549kqTc3Fy98MILql+/vry9vVW1alXdd999Onr0qEO/gktQP//8c91www3y8fGxn5l1hqNHj+r+++9XVFSUvY7WrVvrm2++cdjvm2++UadOnRQYGCg/Pz+1bt1aK1ascNjnUr+PAPBnnIkCgCJ0795dFStW1Jo1ay66z+7du9WjRw+1adNG//znP1W5cmXt379fy5YtU25urqpXr65ly5bp1ltv1dChQzVs2DBJsgerAn379tWdd96p4cOH6/Tp05esKzk5WaNHj9aECRMUHh6uDz/8UKNGjVJubq7GjRtn6T3OnDlT999/v3bs2KFFixb95f5bt25Vq1atVK1aNb3++usKCQnRBx98oMGDB+vw4cN69NFHHfZ/8skn1bp1a82dO1eZmZl67LHH1KtXL6WmpqpixYoXHWf16tXq0qWLGjVqpHfeeUfe3t6aOXOmevXqpQULFqh///4aNmyY4uLi1LdvX/slet7e3pbevyTt2rVLklS3bl1726FDh3TjjTeqQoUKevbZZ1WrVi398MMPeuGFF7R7927NmzdPnp6eGjBggN566y0lJCQoMDDQ3n/BggXKzs7Wfffdd9FxU1JS1KpVK3tgDw8P1/LlyzVy5Eilp6dr/Pjxstls6tixo0MgWL9+vT2krVixQnfffbekCyGhadOmqly5sqQL8zcvL08vvfSSoqOjlZ6ernXr1pX4vqbt27dLujB38/Pz1bt3b61du1aPPvqoWrVqpT179mj8+PFq37691q9f73CmaePGjUpNTdXTTz+tmjVryt/fv0Q1FGXgwIHauHGjXnzxRdWtW1cnTpzQxo0blZGRYd/ngw8+0L333qvevXvr3Xfflaenp2bPnq1bbrlFy5cvL3QW08rvIwA3ZgDADc2bN89IMklJSRfdJywszFx33XX21+PHjzd//LP5r3/9y0gyycnJFz3G0aNHjSQzfvz4QtsKjvfss89edNsfxcTEGJvNVmi8Ll26mMDAQHP69GmH97Zr1y6H/VatWmUkmVWrVtnbevToYWJiYoqs/c9133nnncbb29ukpaU57NetWzfj5+dnTpw44TBO9+7dHfb75JNPjCTzww8/FDlegRYtWphq1aqZU6dO2dvOnz9vGjZsaCIjI01+fr4xxphdu3YZSebll1++5PH+uO/UqVPNuXPnTHZ2tklOTjYtW7Y01atXd/isHnjgAVOpUiWzZ88eh2O88sorRpLZsmWLMcaYzZs3G0lmzpw5DvvdeOONpmnTpoXGnjdvnr3tlltuMZGRkebkyZMOfUeMGGF8fHzMsWPHjDHGzJ0710iyf+YvvPCCqV+/vrntttvMfffdZ4wxJjc31/j7+5snn3zSGGNMenq6kWRmzJjxl5/LnxXMu0OHDplz586Z48ePmw8++MD4+vqaqKgoc/bsWbNgwQIjyXz22WcOfZOSkowkM3PmTHtbTEyMqVixotm6dWuxxm/Xrp1p0KBBkduK+l2qVKmSGT169EWPd/r0aRMcHGx69erl0J6Xl2fi4uLMjTfeWOi9F/X7CAB/xuV8AHARxphLbm/cuLG8vLx0//33691339XOnTtLNM4dd9xR7H0bNGiguLg4h7a7775bmZmZ2rhxY4nGL66VK1eqU6dOioqKcmgfPHiwzpw5ox9++MGh/bbbbnN43ahRI0n/uySsKKdPn9Z///tf9evXT5UqVbK3V6xYUQMHDtS+ffuKfUlgUR577DF5enraL0X89ddf9eWXXzpcCrhkyRJ16NBBEREROn/+vP2rW7duki6cKZOk66+/Xk2bNtW8efPsfVNTU/XTTz9pyJAhF60hOztbK1asUJ8+feTn5+cwRvfu3ZWdna0ff/xRkuwLmxScjUpMTFSXLl3UuXNnJSYmSrqwAMjp06ft+wYHB6tWrVp6+eWXNX36dG3atEn5+fmWPqfw8HB5enqqSpUqGjBggJo0aaJly5bJx8dHS5YsUeXKldWrVy+H2hs3bqzw8PBCK1E2atTI4UyfM914442aP3++XnjhBf344486d+6cw/Z169bp2LFjGjRokEOt+fn5uvXWW5WUlFTobJOV30cA7osQBQBFOH36tDIyMhQREXHRfWrVqqVvvvlG1apVU3x8vGrVqqVatWrptddeszRW9erVi71veHj4Rdv+eAlTacjIyCiy1oLP6M/jh4SEOLwuuNzu7NmzFx3j+PHjMsZYGseKUaNGKSkpSd99951eeeUVnTt3Tr1793Y45uHDh/Xll1/K09PT4atBgwaSLiy1XWDIkCH64Ycf9Ntvv0m6sNqjt7e37rrrrovWkJGRofPnz+uNN94oNEb37t0dxoiJibHPs4KgWhCiCgLlN998I19fX7Vq1UrShXvZVqxYoVtuuUUvvfSSmjRpoqpVq2rkyJE6depUsT6nb775RklJSUpOTlZ6erq+++47xcbG2j+fEydOyMvLq1D9hw4dcvh8JGvz28PDQ3l5eUVuK7gfzdPT0962cOFCDRo0SHPnzlXLli0VHByse++9V4cOHbLXKkn9+vUrVOvUqVNljNGxY8dKXC8A98U9UQBQhK+++kp5eXl/uSx5mzZt1KZNG+Xl5Wn9+vV64403NHr0aIWFhenOO+8s1lhWlowu+MdhUW0FocXHx0eSlJOT47Dfn/9xa1VISIgOHjxYqP3AgQOSZF/N7XIULJpQWuNERkbaF5No3bq1wsPDNWDAAI0fP15vvvmm/fiNGjXSiy++WOQx/his77rrLo0ZM0bz58/Xiy++qPfff1+33367qlSpcsn3WHBm7Y+LRvxRzZo17d936tRJ//73v7V69Wrl5+erffv2CggIUEREhBITE/XNN9+oTZs2DveExcTE6J133pEk/f777/rkk080YcIE5ebm6q233vrLzykuLu6in3NoaKhCQkK0bNmyIrcHBAQ4vLYyv8PCwpSUlCRjTKF++/fvt+/zx1pmzJihGTNmKC0tTV988YUef/xxHTlyRMuWLbO/hzfeeOOiKyT+8XhW6wXgvghRAPAnaWlpGjdunIKCgvTAAw8Uq0/FihV10003qX79+vrwww+1ceNG3XnnncU6+2LFli1b9PPPPztc0vfRRx8pICBATZo0kST7pWmbN292eG7SF198Ueh43t7exa6tU6dOWrRokQ4cOOAQJN577z35+fk5ZRlvf39/3XTTTfr888/1yiuv2BcoyM/P1wcffKDIyEinXhp2zz33aO7cuXr77bf1yCOPKCYmRj179tTSpUtVq1atS4Yh6UIguv322/Xee++pZcuWOnTo0CUv5ZMkPz8/dejQQZs2bVKjRo3k5eV1yf07d+6sOXPmaMaMGWrRooU9pBT8PJKSkjRp0qSL9q9bt66efvppffbZZ0655LNnz576+OOPlZeXp5tuuumyj/dHnTt31kcffaRly5bZL58s8Mknn6hChQrq2LFjkX2jo6M1YsQIrVixQt9//72kC0G5cuXKSklJ0YgRI5xaKwD3RogC4NZ+/fVX+30SR44c0dq1azVv3jxVrFhRixYtKrSS3h+99dZbWrlypXr06KHo6GhlZ2frn//8p6T/3csSEBCgmJgY/fvf/1anTp0UHBys0NDQEi3HLV04C3LbbbdpwoQJql69uj744AMlJiZq6tSp9ufZNG/eXPXq1dO4ceN0/vx5ValSRYsWLdJ3331X6HjXX3+9Pv/8c82aNUtNmzZVhQoVHJ6b9Ufjx4+33y/07LPPKjg4WB9++KG++uorvfTSSwoKCirRe/qzyZMnq0uXLurQoYPGjRsnLy8vzZw5U7/++qsWLFjg9DMFU6dO1U033aTnn39ec+fO1XPPPafExES1atVKI0eOVL169ZSdna3du3dr6dKleuuttxye4TVkyBAtXLhQI0aMUGRkpMMDmi/mtdde080336w2bdro//7v/3TNNdfo1KlT2r59u7788kutXLnSvm/Hjh1ls9n09ddfOywP3rlzZw0aNMj+fYHNmzdrxIgR+tvf/qY6derIy8tLK1eu1ObNm/X4449f9ud155136sMPP1T37t01atQo3XjjjfL09NS+ffu0atUq9e7dW3369CnRse+55x7NnDlTf//73/X444+refPmOnv2rJYuXaq3335bDz30kK699lpJ0smTJ9WhQwfdfffdql+/vgICApSUlKRly5apb9++kqRKlSrpjTfe0KBBg3Ts2DH169dP1apV09GjR/Xzzz/r6NGjmjVr1mV/JgDckGvXtQAA1yhYwa7gy8vLy1SrVs20a9fOTJo0yRw5cqRQnz+vmPfDDz+YPn36mJiYGOPt7W1CQkJMu3btzBdffOHQ75tvvjE33HCD8fb2NpLMoEGDHI539OjRvxzLmAsrnfXo0cP861//Mg0aNDBeXl7mmmuuMdOnTy/U//fffzddu3Y1gYGBpmrVquahhx4yX331VaHV+Y4dO2b69etnKleubGw2m8OYKmJVwV9++cX06tXLBAUFGS8vLxMXF+ew6pwx/1ud79NPP3VoL2qVuotZu3at6dixo/H39ze+vr6mRYsW5ssvvyzyeFZW57vYvn/729+Mh4eH2b59uzHmwkpwI0eONDVr1jSenp4mODjYNG3a1Dz11FMmKyvLoW9eXp6JiooyksxTTz110bH//L537dplhgwZYmrUqGE8PT1N1apVTatWrcwLL7xQ6Bg33HCDkWS+//57e9v+/fuNJBMSEmJfsdAYYw4fPmwGDx5s6tevb/z9/U2lSpVMo0aNzKuvvmrOnz9/yc/pUnPyj86dO2deeeUVExcXZ3x8fEylSpVM/fr1zQMPPGC2bdtm369gzlqRmZlpHn30UVOnTh3j5eVl/Pz8TLNmzcxbb73l8D6zs7PN8OHDTaNGjUxgYKDx9fU19erVM+PHj7evVFlg9erVpkePHiY4ONh4enqaGjVqmB49ejjM0eK+dwAwxhibMX+x/BQAAAAAwI7V+QAAAADAAkIUAAAAAFhAiAIAAAAACwhRAAAAAGABIQoAAAAALCBEAQAAAIAFbv+w3fz8fB04cEABAQFOf4AjAAAAgPLDGKNTp04pIiJCFSpc/HyT24eoAwcOKCoqytVlAAAAACgj9u7dq8jIyItud/sQFRAQIOnCBxUYGOjiagAAAAC4SmZmpqKiouwZ4WLcPkQVXMIXGBhIiAIAAADwl7f5lPuFJU6dOqXmzZurcePGuv766/X222+7uiQAAAAAV7FyfybKz89Pq1evlp+fn86cOaOGDRuqb9++CgkJcXVpAAAAAK5C5f5MVMWKFeXn5ydJys7OVl5enowxLq4KAAAAwNXK5SFqzZo16tWrlyIiImSz2bR48eJC+8ycOVM1a9aUj4+PmjZtqrVr1zpsP3HihOLi4hQZGalHH31UoaGhV6h6AAAAAO7G5SHq9OnTiouL05tvvlnk9oULF2r06NF66qmntGnTJrVp00bdunVTWlqafZ/KlSvr559/1q5du/TRRx/p8OHDFx0vJydHmZmZDl8AAAAAUFwuD1HdunXTCy+8oL59+xa5ffr06Ro6dKiGDRum6667TjNmzFBUVJRmzZpVaN+wsDA1atRIa9asueh4kydPVlBQkP2LZ0QBAAAAsMLlIepScnNztWHDBnXt2tWhvWvXrlq3bp0k6fDhw/azSZmZmVqzZo3q1at30WM+8cQTOnnypP1r7969pfcGAAAAAFx1yvTqfOnp6crLy1NYWJhDe1hYmA4dOiRJ2rdvn4YOHSpjjIwxGjFihBo1anTRY3p7e8vb27tU6wYAAABw9SrTIarAnx92ZYyxtzVt2lTJyckuqAoAAACAOyrTl/OFhoaqYsWK9rNOBY4cOVLo7BQAAAAAXAllOkR5eXmpadOmSkxMdGhPTExUq1atXFQVAAAAAHfm8sv5srKytH37dvvrXbt2KTk5WcHBwYqOjtaYMWM0cOBANWvWTC1bttScOXOUlpam4cOHX9a4CQkJSkhIUF5e3uW+BQAAAABuxGaMMa4s4Ntvv1WHDh0KtQ8aNEjz58+XdOFhuy+99JIOHjyohg0b6tVXX1Xbtm2dMn5mZqaCgoJ08uRJBQYGOuWYAAAAAMqf4mYDl4coVyNElUxaWprS09Mt9wsNDVV0dHQpVAQAAABcnuJmA5dfzofyJy0tTfXqX6fss2cs9/Xx9dPW31IJUgAAACi3CFGwLD09Xdlnzyik51h5hkQVu9+5jL3KWDJN6enphCgAAACUW4QolJhnSJS8w2u7ugwAAADgiirTS5yXpoSEBMXGxqp58+auLgUAAABAOeK2ISo+Pl4pKSlKSkpydSkAAAAAyhG3DVEAAAAAUBKEKAAAAACwgBAFAAAAABYQogAAAADAAkIUAAAAAFjgtiGKJc4BAAAAlITbhiiWOAcAAABQEm4bogAAAACgJAhRAAAAAGABIQoAAAAALCBEAQAAAIAFhCgAAAAAsIAQBQAAAAAWuG2I4jlRAAAAAErCbUMUz4kCAAAAUBJuG6IAAAAAoCQIUQAAAABgASEKAAAAACwgRAEAAACABYQoAAAAALCAEAUAAAAAFhCiAAAAAMACtw1RPGwXAAAAQEm4bYjiYbsAAAAASsJtQxQAAAAAlAQhCgAAAAAsIEQBAAAAgAWEKAAAAACwgBAFAAAAABYQogAAAADAAkIUAAAAAFhAiAIAAAAACwhRAAAAAGABIQoAAAAALHDbEJWQkKDY2Fg1b97c1aUAAAAAKEfcNkTFx8crJSVFSUlJri4FAAAAQDnitiEKAAAAAEqCEAUAAAAAFhCiAAAAAMACQhQAAAAAWECIAgAAAAALCFEAAAAAYAEhCgAAAAAs8HB1AXA/qamplvuEhoYqOjq6FKoBAAAArCFE4YrJyzou2WwaMGCA5b4+vn7a+lsqQQoAAAAuR4jCFZOfkyUZo5CeY+UZElXsfucy9ipjyTSlp6cTogAAAOByhChccZ4hUfIOr+3qMgAAAIASYWEJAAAAALCAEAUAAAAAFrhtiEpISFBsbKyaN2/u6lIAAAAAlCNuG6Li4+OVkpKipKQkV5cCAAAAoBxx2xAFAAAAACVBiAIAAAAACwhRAAAAAGABIQoAAAAALCBEAQAAAIAFhCgAAAAAsIAQBQAAAAAWEKIAAAAAwAJCFAAAAABYQIgCAAAAAAsIUQAAAABgASEKAAAAACwgRAEAAACABYQoAAAAALCAEAUAAAAAFhCiAAAAAMACQhQAAAAAWECIAgAAAAALCFEAAAAAYIHbhqiEhATFxsaqefPmri4FAAAAQDni4eoCXCU+Pl7x8fHKzMxUUFCQq8tBMaSmplruExoaqujo6FKoBgAAAO7KbUMUyo+8rOOSzaYBAwZY7uvj66etv6USpAAAAOA0hCiUefk5WZIxCuk5Vp4hUcXudy5jrzKWTFN6ejohCgAAAE5DiEK54RkSJe/w2q4uAwAAAG7ObReWAAAAAICSIEQBAAAAgAWEKAAAAACwgBAFAAAAABYQogAAAADAAkIUAAAAAFhAiAIAAAAACwhRAAAAAGABIQoAAAAALCBEAQAAAIAFhCgAAAAAsIAQBQAAAAAWEKIAAAAAwAJCFAAAAABYQIgCAAAAAAsIUQAAAABgASEKAAAAACzwcHUBQGlLTU213Cc0NFTR0dGlUA0AAADKO0IUrlp5Wcclm00DBgyw3NfH109bf0slSAEAAKAQQhSuWvk5WZIxCuk5Vp4hUcXudy5jrzKWTFN6ejohCgAAAIUQonDV8wyJknd4bVeXAQAAgKuE5RCVk5Ojn376Sbt379aZM2dUtWpV3XDDDapZs2Zp1AcAAAAAZUqxQ9S6dev0xhtvaPHixcrNzVXlypXl6+urY8eOKScnR9dee63uv/9+DR8+XAEBAaVZMwAAAAC4TLGWOO/du7f69eunGjVqaPny5Tp16pQyMjK0b98+nTlzRtu2bdPTTz+tFStWqG7dukpMTCztugEAAADAJYp1Jqpr16769NNP5eXlVeT2a6+9Vtdee60GDRqkLVu26MCBA04tEgAAAADKimKdiYqPj79ogPqzBg0aqEuXLpdVlBV79+5V+/btFRsbq0aNGunTTz+9YmMDAAAAcD/FClF/duLECc2dO1dPPPGEjh07JknauHGj9u/f79TiisPDw0MzZsxQSkqKvvnmGz388MM6ffr0Fa8DAAAAgHuwvDrf5s2b1blzZwUFBWn37t36xz/+oeDgYC1atEh79uzRe++9Vxp1XlT16tVVvXp1SVK1atUUHBysY8eOyd/f/4rWAQAAAMA9WD4TNWbMGA0ePFjbtm2Tj4+Pvb1bt25as2aN5QLWrFmjXr16KSIiQjabTYsXLy60z8yZM1WzZk35+PioadOmWrt2bZHHWr9+vfLz8xUVVfwHqwIAAACAFZbPRCUlJWn27NmF2mvUqKFDhw5ZLuD06dOKi4vTfffdpzvuuKPQ9oULF2r06NGaOXOmWrdurdmzZ6tbt25KSUlRdHS0fb+MjAzde++9mjt3ruUagKKkpqaWqF9oaKjD3AQAAMDVxXKI8vHxUWZmZqH2rVu3qmrVqpYL6Natm7p163bR7dOnT9fQoUM1bNgwSdKMGTO0fPlyzZo1S5MnT5Z04QHAffr00RNPPKFWrVpdcrycnBzl5OTYXxf1XuDe8rKOSzabBgwYUKL+Pr5+2vpbKkEKAADgKmU5RPXu3VvPPfecPvnkE0mSzWZTWlqaHn/88SLPJF2O3NxcbdiwQY8//rhDe9euXbVu3TpJkjFGgwcPVseOHTVw4MC/PObkyZM1ceJEp9aJq0t+TpZkjEJ6jpVniLVLQ89l7FXGkmlKT08nRAEAAFylLIeoV155Rd27d1e1atV09uxZtWvXTocOHVLLli314osvOrW49PR05eXlKSwszKE9LCzMfung999/r4ULF6pRo0b2+6nef/99XX/99UUe84knntCYMWPsrzMzM7mHCkXyDImSd3htV5cBAACAMsZyiAoMDNR3332nlStXauPGjcrPz1eTJk3UuXPn0qhP0oWzXX9kjLG33XzzzcrPzy/2sby9veXt7e3U+gAAAAC4D8shqkDHjh3VsWNHZ9ZSSGhoqCpWrFhowYojR44UOjsFAAAAAFdCsULU66+/XuwDjhw5ssTF/JmXl5eaNm2qxMRE9enTx96emJio3r17O20cAAAAACiuYoWoV199tVgHs9lslkNUVlaWtm/fbn+9a9cuJScnKzg4WNHR0RozZowGDhyoZs2aqWXLlpozZ47S0tI0fPhwS+P8WUJCghISEpSXl3dZxwEAAADgXooVonbt2lVqBaxfv14dOnSwvy5Y9GHQoEGaP3+++vfvr4yMDD333HM6ePCgGjZsqKVLlyomJuayxo2Pj1d8fLwyMzMVFBR0WccCAAAA4D5KfE+Us7Rv317GmEvu8+CDD+rBBx+8QhUBAAAAwMWVKETt27dPX3zxhdLS0pSbm+uwbfr06U4pDAAAAADKIsshasWKFbrttttUs2ZNbd26VQ0bNtTu3btljFGTJk1Ko0YAAAAAKDMqWO3wxBNPaOzYsfr111/l4+Ojzz77THv37lW7du30t7/9rTRqBAAAAIAyw3KISk1N1aBBgyRJHh4eOnv2rCpVqqTnnntOU6dOdXqBpSUhIUGxsbFq3ry5q0sBAAAAUI5YDlH+/v7KycmRJEVERGjHjh32benp6c6rrJTFx8crJSVFSUlJri4FAAAAQDli+Z6oFi1a6Pvvv1dsbKx69OihsWPH6pdfftHnn3+uFi1alEaNAAAAAFBmWA5R06dPV1ZWliRpwoQJysrK0sKFC1W7du1iP5QXAAAAAMoryyHq2muvtX/v5+enmTNnOrUgAAAAACjLLN8TlZSUpP/+97+F2v/73/9q/fr1TikKAAAAAMoqyyEqPj5ee/fuLdS+f/9+xcfHO6UoAAAAACirLIeolJSUIh+qe8MNNyglJcUpRV0JLHEOAAAAoCQshyhvb28dPny4UPvBgwfl4WH5FiuXYYlzAAAAACVhOUR16dJFTzzxhE6ePGlvO3HihJ588kl16dLFqcUBAAAAQFlj+dTRtGnT1LZtW8XExOiGG26QJCUnJyssLEzvv/++0wsEAAAAgLLEcoiqUaOGNm/erA8//FA///yzfH19dd999+muu+6Sp6dnadQIAAAAAGVGiW5i8vf31/333+/sWgAAAACgzCv2PVHbt2/Xhg0bHNpWrFihDh066MYbb9SkSZOcXhwAAAAAlDXFDlGPPPKIFi9ebH+9a9cu9erVS15eXmrZsqUmT56sGTNmlEKJAAAAAFB2FDtErV+/Xt27d7e//vDDD1W3bl0tX75cr732mmbMmKH58+eXRo2lgudEAQAAACiJYoeo9PR0RUZG2l+vWrVKvXr1sr9u3769du/e7dTiShPPiQIAAABQEsUOUcHBwTp48KAkKT8/X+vXr9dNN91k356bmytjjPMrBAAAAIAypNghql27dnr++ee1d+9ezZgxQ/n5+erQoYN9e0pKiq655prSqBEAAAAAyoxiL3H+4osvqkuXLrrmmmtUoUIFvf766/L397dvf//999WxY8dSKRIAAAAAyopih6iaNWsqNTVVKSkpqlq1qiIiIhy2T5w40eGeKQAAAAC4Gll62K6np6fi4uKK3HaxdsAdpaamWu4TGhqq6OjoUqgGAAAAzmQpRAG4tLys45LNpgEDBlju6+Prp62/pRKkAAAAyjhCFOBE+TlZkjEK6TlWniFRxe53LmOvMpZMU3p6OiEKAACgjCNEAaXAMyRK3uG1XV0GAAAASkGxlzi/2iQkJCg2NlbNmzd3dSkAAAAAyhHLZ6I2b95cZLvNZpOPj4+io6Pl7e192YWVtvj4eMXHxyszM1NBQUGuLgcAAABAOWE5RDVu3Fg2m+2i2z09PdW/f3/Nnj1bPj4+l1UcAAAAAJQ1li/nW7RokerUqaM5c+YoOTlZmzZt0pw5c1SvXj199NFHeuedd7Ry5Uo9/fTTpVEvAAAAALiU5TNRL774ol577TXdcsst9rZGjRopMjJSzzzzjH766Sf5+/tr7NixeuWVV5xaLAAAAAC4muUzUb/88otiYmIKtcfExOiXX36RdOGSv4MHD15+dQAAAABQxlgOUfXr19eUKVOUm5trbzt37pymTJmi+vXrS5L279+vsLAw51UJAAAAAGWE5cv5EhISdNtttykyMlKNGjWSzWbT5s2blZeXpyVLlkiSdu7cqQcffNDpxQIAAACAq1kOUa1atdLu3bv1wQcf6Pfff5cxRv369dPdd9+tgIAASdLAgQOdXigAAAAAlAWWQ5QkVapUScOHD3d2LQAAAABQ5pUoRO3YsUMzZsxQamqqbDabYmNjNXLkSNWqVcvZ9QEAAABAmWJ5YYnly5crNjZWP/30kxo1aqSGDRvqxx9/VIMGDZSYmFgaNZaKhIQExcbGqnnz5q4uBQAAAEA5YvlM1OOPP66HH35YU6ZMKdT+2GOPqUuXLk4rrjTFx8crPj5emZmZCgoKcnU5gCQpNTXVcp/Q0FBFR0eXQjUAAAAoiuUQlZqaqk8++aRQ+5AhQzRjxgxn1AS4nbys45LNpgEDBlju6+Prp62/pRKkAAAArhDLIapq1apKTk5WnTp1HNqTk5NVrVo1pxUGuJP8nCzJGIX0HCvPkKhi9zuXsVcZS6YpPT2dEAUAAHCFWA5R//jHP3T//fdr586datWqlWw2m7777jtNnTpVY8eOLY0aAbfhGRIl7/Dari4DAAAAl2A5RD3zzDMKCAjQtGnT9MQTT0iSIiIiNGHCBI0aNcrpBQIAAABAWWJ5dT6bzaaHH35Y+/bt08mTJ3Xy5Ent27dPw4YN05o1a0qjRgAAAAAoM0r0nKgCAQEB9u+3b9+uDh06KC8v77KLAgAAAICyyvKZKAAAAABwZ4QoAAAAALCAEAUAAAAAFhT7nqgvvvjiktt37dp12cUAKJnU1FTLfUJDQ3m2FAAAQAkUO0Tdfvvtf7mPzWa7nFoAWJSXdVyy2TRgwADLfX18/bT1t1SCFAAAgEXFDlH5+fmlWQeAEsjPyZKMUUjPsfIMiSp2v3MZe5WxZJrS09MJUQAAABZd1hLnAMoGz5AoeYfXdnUZAAAAbqFYC0v88MMPxT7g6dOntWXLlhIXdKUkJCQoNjZWzZs3d3UpAAAAAMqRYoWoe++9V126dNEnn3yirKysIvdJSUnRk08+qdq1a2vjxo1OLbI0xMfHKyUlRUlJSa4uBQAAAEA5UqzL+VJSUjR79mw9++yzuueee1S3bl1FRETIx8dHx48f12+//abTp0+rb9++SkxMVMOGDUu7bgAAAABwiWKFKE9PT40YMUIjRozQxo0btXbtWu3evVtnz55VXFycHn74YXXo0EHBwcGlXS8AF0tLS1N6errlfiypDgAArhaWF5Zo0qSJmjRpUhq1ACjj0tLSVK/+dco+e8ZyX5ZUBwAAVwtW5wNQbOnp6co+e4Yl1QEAgFsjRAGwjCXVAQCAOyvW6nwAAAAAgAsIUQAAAABggeUQtWvXrtKoAwAAAADKBcshqnbt2urQoYM++OADZWdnl0ZNAAAAAFBmWQ5RP//8s2644QaNHTtW4eHheuCBB/TTTz+VRm0AAAAAUOZYDlENGzbU9OnTtX//fs2bN0+HDh3SzTffrAYNGmj69Ok6evRoadQJAAAAAGVCiReW8PDwUJ8+ffTJJ59o6tSp2rFjh8aNG6fIyEjde++9OnjwoDPrBAAAAIAyocQhav369XrwwQdVvXp1TZ8+XePGjdOOHTu0cuVK7d+/X71793ZmnQAAAABQJlh+2O706dM1b948bd26Vd27d9d7772n7t27q0KFC3msZs2amj17turXr+/0YgEAAADA1SyHqFmzZmnIkCG67777FB4eXuQ+0dHReueddy67OAClKzU1tVT3BwAAuBpZDlHbtm37y328vLw0aNCgEhUEoPTlZR2XbDYNGDDA1aUAAACUO5ZD1Lx581SpUiX97W9/c2j/9NNPdebMGcITUA7k52RJxiik51h5hkQVu9/Znet1cu0HpVgZAABA2Wc5RE2ZMkVvvfVWofZq1arp/vvvJ0QB5YhnSJS8w2sXe/9zGXtLsRoAAIDywfLqfHv27FHNmjULtcfExCgtLc0pRQEAAABAWWU5RFWrVk2bN28u1P7zzz8rJCTEKUVdCQkJCYqNjVXz5s1dXQoAAACAcsRyiLrzzjs1cuRIrVq1Snl5ecrLy9PKlSs1atQo3XnnnaVRY6mIj49XSkqKkpKSXF0KAAAAgHLE8j1RL7zwgvbs2aNOnTrJw+NC9/z8fN17772aNGmS0wsEAAAAgLLEcojy8vLSwoUL9fzzz+vnn3+Wr6+vrr/+esXExJRGfQAAAABQplgOUQXq1q2runXrOrMWAAAAACjzLIeovLw8zZ8/XytWrNCRI0eUn5/vsH3lypVOKw4AAAAAyhrLIWrUqFGaP3++evTooYYNG8pms5VGXQAAAABQJlkOUR9//LE++eQTde/evTTqAQAAAIAyzfIS515eXqpdu3Zp1AIAAAAAZZ7lEDV27Fi99tprMsaURj0AAAAAUKZZvpzvu+++06pVq/Sf//xHDRo0kKenp8P2zz//3GnFAQAAAEBZYzlEVa5cWX369CmNWgAAAACgzLMcoubNm1cadQAAAABAuWD5nihJOn/+vL755hvNnj1bp06dkiQdOHBAWVlZTi0OAAAAAMoay2ei9uzZo1tvvVVpaWnKyclRly5dFBAQoJdeeknZ2dl66623SqNOAAAAACgTLJ+JGjVqlJo1a6bjx4/L19fX3t6nTx+tWLHCqcUBAAAAQFlTotX5vv/+e3l5eTm0x8TEaP/+/U4rDAAAAADKIstnovLz85WXl1eofd++fQoICHBKUQAAAABQVlkOUV26dNGMGTPsr202m7KysjR+/Hh1797dmbUBAAAAQJlj+XK+V199VR06dFBsbKyys7N19913a9u2bQoNDdWCBQtKo0YAAAAAKDMsh6iIiAglJydrwYIF2rhxo/Lz8zV06FDdc889DgtNAAAAAMDVyHKIkiRfX18NGTJEQ4YMcXY9AAAAAFCmWQ5R77333iW333vvvSUuBgAAAADKOsshatSoUQ6vz507pzNnzsjLy0t+fn6EKAAAAABXNcur8x0/ftzhKysrS1u3btXNN9/MwhIAAAAArnqWQ1RR6tSpoylTphQ6SwUAAAAAVxunhChJqlixog4cOOCswwEAAABAmWT5nqgvvvjC4bUxRgcPHtSbb76p1q1bO60wAAAAACiLLIeo22+/3eG1zWZT1apV1bFjR02bNs1ZdQEAAABAmWQ5ROXn55dGHQAAAABQLjjtnigAAAAAcAeWz0SNGTOm2PtOnz7d6uFLpE+fPvr222/VqVMn/etf/7oiYwIAAABwT5ZD1KZNm7Rx40adP39e9erVkyT9/vvvqlixopo0aWLfz2azOa/KvzBy5EgNGTJE77777hUbEwAAAIB7shyievXqpYCAAL377ruqUqWKpAsP4L3vvvvUpk0bjR071ulF/pUOHTro22+/veLjAgAAAHA/lu+JmjZtmiZPnmwPUJJUpUoVvfDCCyVanW/NmjXq1auXIiIiZLPZtHjx4kL7zJw5UzVr1pSPj4+aNm2qtWvXWh4HAAAAAJzBcojKzMzU4cOHC7UfOXJEp06dslzA6dOnFRcXpzfffLPI7QsXLtTo0aP11FNPadOmTWrTpo26deumtLQ0y2MBAAAAwOWyfDlfnz59dN9992natGlq0aKFJOnHH3/UI488or59+1ouoFu3burWrdtFt0+fPl1Dhw7VsGHDJEkzZszQ8uXLNWvWLE2ePNnyeDk5OcrJybG/zszMtHwMAFdOWlqa0tPTLfcLDQ1VdHR0KVQEAADcneUQ9dZbb2ncuHEaMGCAzp07d+EgHh4aOnSoXn75ZacWl5ubqw0bNujxxx93aO/atavWrVtXomNOnjxZEydOdEZ5AEpZWlqa6tW/Ttlnz1ju6+Prp62/pRKkAACA01kOUX5+fpo5c6Zefvll7dixQ8YY1a5dW/7+/k4vLj09XXl5eQoLC3NoDwsL06FDh+yvb7nlFm3cuFGnT59WZGSkFi1apObNmxd5zCeeeMJhmfbMzExFRUU5vXYAly89PV3ZZ88opOdYeYYU//f0XMZeZSyZpvT0dEIUAABwOsshqsDBgwd18OBBtW3bVr6+vjLGlNqy5n8+7p/HWr58ebGP5e3tLW9vb6fVBqD0eYZEyTu8tqvLAAAAkFSChSUyMjLUqVMn1a1bV927d9fBgwclScOGDXP68uahoaGqWLGiw1kn6cIiFn8+OwUAAAAAV4LlEPXwww/L09NTaWlp8vPzs7f3799fy5Ytc2pxXl5eatq0qRITEx3aExMT1apVK6eOBQAAAADFYflyvq+//lrLly9XZGSkQ3udOnW0Z88eywVkZWVp+/bt9te7du1ScnKygoODFR0drTFjxmjgwIFq1qyZWrZsqTlz5igtLU3Dhw+3PNYfJSQkKCEhQXl5eZd1HAAAAADuxXKIOn36tMMZqALp6eklutdo/fr16tChg/11waIPgwYN0vz589W/f39lZGToueee08GDB9WwYUMtXbpUMTExlsf6o/j4eMXHxyszM1NBQUGXdSwAAAAA7sNyiGrbtq3ee+89Pf/885IuLPqQn5+vl19+2SEMFVf79u1ljLnkPg8++KAefPBBy8cGAAAAAGezHKJefvlltW/fXuvXr1dubq4effRRbdmyRceOHdP3339fGjUCAAAAQJlheWGJ2NhYbd68WTfeeKO6dOmi06dPq2/fvtq0aZNq1apVGjUCAAAAQJlh6UzUuXPn1LVrV82ePVsTJ04srZoAXKVSU1NLdX8AAIArwVKI8vT01K+//lpqD9W9klidD7hy8rKOSzabBgwY4OpSAAAALpvle6LuvfdevfPOO5oyZUpp1HPFsDofcOXk52RJxiik51h5hkQVu9/Znet1cu0HpVgZAACAdZZDVG5urubOnavExEQ1a9ZM/v7+DtunT5/utOIAXF08Q6LkHV672Pufy9hbitUAAACUjOUQ9euvv6pJkyaSpN9//91h29VwmR8AAAAAXEqxQ9TOnTtVs2ZNrVq1qjTrAQAAAIAyrdhLnNepU0dHjx61v+7fv78OHz5cKkUBAAAAQFlV7DNRxhiH10uXLtXkyZOdXhAAlEdpaWlKT0+33C80NFTR0dGlUBEAACgtlu+JulqwxDkAZ0lLS1O9+tcp++wZy319fP209bdUghQAAOVIsUOUzWYrtHBEeV5IgiXOAThLenq6ss+esbyE+7mMvcpYMk3p6emEKAAAyhFLl/MNHjxY3t7ekqTs7GwNHz680BLnn3/+uXMrBIBywuoS7gAAoHwqdogaNGiQw+sBAwY4vRgAAAAAKOuKHaLmzZtXmnUAAAAAQLlQ7CXOAQAAAACEKAAAAACwxG2XOAdw9UtNTbXch+c2AQCAv+K2IYrnRAFXr7ys45LNVqIFcHhuEwAA+CtuG6J4ThRw9crPyZKM4blNAACgVLhtiAJw9eO5TQAAoDSwsAQAAAAAWECIAgAAAAALCFEAAAAAYAEhCgAAAAAsIEQBAAAAgAWEKAAAAACwgCXOAeBPUlNTS3V/Z/UPDQ3leVYAALiA24aohIQEJSQkKC8vz9WlACgj8rKOSzabBgwYUC7G8/H109bfUglSAABcYW4bouLj4xUfH6/MzEwFBQW5uhwAZUB+TpZkjEJ6jpVnSFSx+53duV4n135wxcaTpHMZe5WxZJrS09MJUQAAXGFuG6IA4GI8Q6LkHV672Pufy9h7RccDAACuxcISAAAAAGABIQoAAAAALCBEAQAAAIAFhCgAAAAAsIAQBQAAAAAWEKIAAAAAwAJCFAAAAABYwHOiAKAcS01NtdwnJydH3t7eV6xfaGgoDwQGAFxV3DZEJSQkKCEhQXl5ea4uBQAsy8s6LtlsGjBggPXOtgqSyb9i/Xx8/bT1t1SCFADgquG2ISo+Pl7x8fHKzMxUUFCQq8sBAEvyc7IkYxTSc6w8Q6KK3e/szvU6ufaDK9bvXMZeZSyZpvT0dEIUAOCq4bYhCgCuBp4hUfIOr13s/c9l7L2i/QAAuBqxsAQAAAAAWECIAgAAAAALCFEAAAAAYAEhCgAAAAAsIEQBAAAAgAWEKAAAAACwgBAFAAAAABYQogAAAADAAkIUAAAAAFhAiAIAAAAACwhRAAAAAGABIQoAAAAALHDbEJWQkKDY2Fg1b97c1aUAAAAAKEfcNkTFx8crJSVFSUlJri4FAAAAQDnitiEKAAAAAEqCEAUAAAAAFhCiAAAAAMACQhQAAAAAWECIAgAAAAALCFEAAAAAYAEhCgAAAAAsIEQBAAAAgAWEKAAAAACwgBAFAAAAABYQogAAAADAAkIUAAAAAFhAiAIAAAAACwhRAAAAAGABIQoAAAAALCBEAQAAAIAFhCgAAAAAsIAQBQAAAAAWeLi6ALhWWlqa0tPTLfVJTU0tpWoA4H9K8vdJkkJDQxUdHV3mxwMAlF9uG6ISEhKUkJCgvLw8V5fiMmlpaapX/zplnz3j6lIAwMHl/H3y8fXT1t9SLQWbKz0eAKB8c9sQFR8fr/j4eGVmZiooKMjV5bhEenq6ss+eUUjPsfIMiSp2v7M71+vk2g9KsTIA7q6kf5/OZexVxpJpSk9PtxRqrvR4AIDyzW1DFP7HMyRK3uG1i73/uYy9pVgNAPyP1b9P5W08AED5xMISAAAAAGABIQoAAAAALCBEAQAAAIAFhCgAAAAAsIAQBQAAAAAWEKIAAAAAwAJCFAAAAABYQIgCAAAAAAsIUQAAAABgASEKAAAAACwgRAEAAACABYQoAAAAALCAEAUAAAAAFhCiAAAAAMACQhQAAAAAWECIAgAAAAALCFEAAAAAYAEhCgAAAAAsIEQBAAAAgAWEKAAAAACwgBAFAAAAABYQogAAAADAAkIUAAAAAFhAiAIAAAAACwhRAAAAAGABIQoAAAAALCBEAQAAAIAFhCgAAAAAsOCqCFFLlixRvXr1VKdOHc2dO9fV5QAAAAC4inm4uoDLdf78eY0ZM0arVq1SYGCgmjRpor59+yo4ONjVpQEAAAC4CpX7M1E//fSTGjRooBo1aiggIEDdu3fX8uXLXV0WAAAAgKuUy0PUmjVr1KtXL0VERMhms2nx4sWF9pk5c6Zq1qwpHx8fNW3aVGvXrrVvO3DggGrUqGF/HRkZqf3791+J0gEAAAC4IZdfznf69GnFxcXpvvvu0x133FFo+8KFCzV69GjNnDlTrVu31uzZs9WtWzelpKQoOjpaxphCfWw220XHy8nJUU5Ojv11Zmamc96Ik6SlpSk9Pd1yv9DQUEVHR5dCRQBw+VJTU0t1//KIv/dlBz8L5yrp5ynxmZZ37vS75PIQ1a1bN3Xr1u2i26dPn66hQ4dq2LBhkqQZM2Zo+fLlmjVrliZPnqwaNWo4nHnat2+fbrrpposeb/LkyZo4caLz3oATpaWlqV7965R99ozlvj6+ftr6W2q5m4AArm55Wcclm00DBgxwdSllCn/vyw5+Fs51OZ+nxGdanrnb75LLQ9Sl5ObmasOGDXr88ccd2rt27ap169ZJkm688Ub9+uuv2r9/vwIDA7V06VI9++yzFz3mE088oTFjxthfZ2ZmKioqqnTegEXp6enKPntGIT3HyjOk+DWdy9irjCXTlJ6eXq4mH4CrX35OlmSM5b9rZ3eu18m1H5RiZa7F3/uyg5+Fc5X085T4TMs7d/tdKtMhKj09XXl5eQoLC3NoDwsL06FDhyRJHh4emjZtmjp06KD8/Hw9+uijCgkJuegxvb295e3tXap1Xy7PkCh5h9d2dRkA4DRW/66dy9hbitWUHfy9Lzv4WTgXn6f7cpeffZkOUQX+fI+TMcah7bbbbtNtt912pcsCAAAA4IZcvjrfpYSGhqpixYr2s04Fjhw5UujsFAAAAABcCWU6RHl5ealp06ZKTEx0aE9MTFSrVq1cVBUAAAAAd+byy/mysrK0fft2++tdu3YpOTlZwcHBio6O1pgxYzRw4EA1a9ZMLVu21Jw5c5SWlqbhw4df1rgJCQlKSEhQXl7e5b4FAAAAAG7E5SFq/fr16tChg/11wcp5gwYN0vz589W/f39lZGToueee08GDB9WwYUMtXbpUMTExlzVufHy84uPjlZmZqaCgoMs6FgAAAAD34fIQ1b59+yIfmPtHDz74oB588MErVBEAAAAAXFyZvicKAAAAAMoaQhQAAAAAWECIAgAAAAAL3DZEJSQkKDY2Vs2bN3d1KQAAAADKEbcNUfHx8UpJSVFSUpKrSwEAAABQjrhtiAIAAACAkiBEAQAAAIAFhCgAAAAAsMDlD9t1tYIH/WZmZrq4EikrK0uSlJ+brfycM8Xul5+bbe9v5X2UeLxzOfQrI2PSzz37uWLMctPvSv89LCfj4eL4WThXST/Pgj4Fx+AzLX+ult+lghoKMsLF2Mxf7XGV27dvn6KiolxdBgAAAIAyYu/evYqMjLzodrcPUfn5+Tpw4IACAgJks9mcdtzMzExFRUVp7969CgwMdNpxUb4wD1CAuQCJeYD/YS5AYh6URcYYnTp1ShEREapQ4eJ3Prn95XwVKlS4ZMq8XIGBgfxSgHkAO+YCJOYB/oe5AIl5UNYEBQX95T4sLAEAAAAAFhCiAAAAAMACQlQp8fb21vjx4+Xt7e3qUuBCzAMUYC5AYh7gf5gLkJgH5ZnbLywBAAAAAFZwJgoAAAAALCBEAQAAAIAFhCgAAAAAsIAQBQAAAAAWEKJKwcyZM1WzZk35+PioadOmWrt2ratLQilbs2aNevXqpYiICNlsNi1evNhhuzFGEyZMUEREhHx9fdW+fXtt2bLFNcWi1EyePFnNmzdXQECAqlWrpttvv11bt2512Ie5cPWbNWuWGjVqZH94ZsuWLfWf//zHvp054J4mT54sm82m0aNH29uYC+5hwoQJstlsDl/h4eH27cyD8okQ5WQLFy7U6NGj9dRTT2nTpk1q06aNunXrprS0NFeXhlJ0+vRpxcXF6c033yxy+0svvaTp06frzTffVFJSksLDw9WlSxedOnXqCleK0rR69WrFx8frxx9/VGJios6fP6+uXbvq9OnT9n2YC1e/yMhITZkyRevXr9f69evVsWNH9e7d2/6PIuaA+0lKStKcOXPUqFEjh3bmgvto0KCBDh48aP/65Zdf7NuYB+WUgVPdeOONZvjw4Q5t9evXN48//riLKsKVJsksWrTI/jo/P9+Eh4ebKVOm2Nuys7NNUFCQeeutt1xQIa6UI0eOGElm9erVxhjmgjurUqWKmTt3LnPADZ06dcrUqVPHJCYmmnbt2plRo0YZY/h74E7Gjx9v4uLiitzGPCi/OBPlRLm5udqwYYO6du3q0N61a1etW7fORVXB1Xbt2qVDhw45zAtvb2+1a9eOeXGVO3nypCQpODhYEnPBHeXl5enjjz/W6dOn1bJlS+aAG4qPj1ePHj3UuXNnh3bmgnvZtm2bIiIiVLNmTd15553auXOnJOZBeebh6gKuJunp6crLy1NYWJhDe1hYmA4dOuSiquBqBT/7oubFnj17XFESrgBjjMaMGaObb75ZDRs2lMRccCe//PKLWrZsqezsbFWqVEmLFi1SbGys/R9FzAH38PHHH2vjxo1KSkoqtI2/B+7jpptu0nvvvae6devq8OHDeuGFF9SqVStt2bKFeVCOEaJKgc1mc3htjCnUBvfDvHAvI0aM0ObNm/Xdd98V2sZcuPrVq1dPycnJOnHihD777DMNGjRIq1evtm9nDlz99u7dq1GjRunrr7+Wj4/PRfdjLlz9unXrZv/++uuvV8uWLVWrVi29++67atGihSTmQXnE5XxOFBoaqooVKxY663TkyJFC/4UB7qNgBR7mhft46KGH9MUXX2jVqlWKjIy0tzMX3IeXl5dq166tZs2aafLkyYqLi9Nrr73GHHAjGzZs0JEjR9S0aVN5eHjIw8NDq1ev1uuvvy4PDw/7z5u54H78/f11/fXXa9u2bfxNKMcIUU7k5eWlpk2bKjEx0aE9MTFRrVq1clFVcLWaNWsqPDzcYV7k5uZq9erVzIurjDFGI0aM0Oeff66VK1eqZs2aDtuZC+7LGKOcnBzmgBvp1KmTfvnlFyUnJ9u/mjVrpnvuuUfJycm69tprmQtuKicnR6mpqapevTp/E8oxLudzsjFjxmjgwIFq1qyZWrZsqTlz5igtLU3Dhw93dWkoRVlZWdq+fbv99a5du5ScnKzg4GBFR0dr9OjRmjRpkurUqaM6depo0qRJ8vPz09133+3CquFs8fHx+uijj/Tvf/9bAQEB9v+yGBQUJF9fX/szYpgLV7cnn3xS3bp1U1RUlE6dOqWPP/5Y3377rZYtW8YccCMBAQH2+yEL+Pv7KyQkxN7OXHAP48aNU69evRQdHa0jR47ohRdeUGZmpgYNGsTfhPLMZesCXsUSEhJMTEyM8fLyMk2aNLEvb4yr16pVq4ykQl+DBg0yxlxYwnT8+PEmPDzceHt7m7Zt25pffvnFtUXD6YqaA5LMvHnz7PswF65+Q4YMsf9/QNWqVU2nTp3M119/bd/OHHBff1zi3Bjmgrvo37+/qV69uvH09DQRERGmb9++ZsuWLfbtzIPyyWaMMS7KbwAAAABQ7nBPFAAAAABYQIgCAAAAAAsIUQAAAABgASEKAAAAACwgRAEAAACABYQoAAAAALCAEAUAAAAAFhCiAAAAAMACQhQAuLndu3fLZrMpOTnZ1aXY/fbbb2rRooV8fHzUuHFjl9ZyzTXXaMaMGS6tAQBQthCiAMDFBg8eLJvNpilTpji0L168WDabzUVVudb48ePl7++vrVu3asWKFUXuU/C52Ww2eXh4KDo6Wv/3f/+n48ePO7WWpKQk3X///U49ZnlwqXB9++23a/DgwVe8JgAoKwhRAFAG+Pj4aOrUqU4PAK6Um5tb4r47duzQzTffrJiYGIWEhFx0v1tvvVUHDx7U7t27NXfuXH355Zd68MEHSzxuUapWrSo/Pz+nHrMsMcbo/Pnzri7DrqzVAwBFIUQBQBnQuXNnhYeHa/LkyRfdZ8KECYUubZsxY4auueYa++vBgwfr9ttv16RJkxQWFqbKlStr4sSJOn/+vB555BEFBwcrMjJS//znPwsd/7ffflOrVq3k4+OjBg0a6Ntvv3XYnpKSou7du6tSpUoKCwvTwIEDlZ6ebt/evn17jRgxQmPGjFFoaKi6dOlS5PvIz8/Xc889p8jISHl7e6tx48ZatmyZfbvNZtOGDRv03HPPyWazacKECRf9TLy9vRUeHq7IyEh17dpV/fv319dff+2wz7x583TdddfJx8dH9evX18yZM+3bWrZsqccff9xh/6NHj8rT01OrVq2SVPhyvpMnT+r+++9XtWrVFBgYqI4dO+rnn3+2b6tYsaI2bNgg6UIgCA4OVvPmze39FyxYoOrVq0u6EDRHjBih6tWry8fHR9dcc80l50DBz3fixIn28R944AGHwGqM0UsvvaRrr71Wvr6+iouL07/+9S/79m+//VY2m03Lly9Xs2bN5O3trbVr1150zOKYOXOm6tSpIx8fH4WFhalfv34urQcAShshCgDKgIoVK2rSpEl64403tG/fvss61sqVK3XgwAGtWbNG06dP14QJE9SzZ09VqVJF//3vfzV8+HANHz5ce/fudej3yCOPaOzYsdq0aZNatWql2267TRkZGZKkgwcPql27dmrcuLHWr1+vZcuW6fDhw/r73//ucIx3331XHh4e+v777zV79uwi63vttdc0bdo0vfLKK9q8ebNuueUW3Xbbbdq2bZt9rAYNGmjs2LE6ePCgxo0bV6z3vXPnTi1btkyenp72trfffltPPfWUXnzxRaWmpmrSpEl65pln9O6770qS7rnnHi1YsEDGGHufhQsXKiwsTO3atSs0hjFGPXr00KFDh7R06VJt2LBBTZo0UadOnXTs2DEFBQWpcePG9gC6efNm+/9mZmZKuhAaCo79+uuv64svvtAnn3yirVu36oMPPnAIxUVZsWKFUlNTtWrVKi1YsECLFi3SxIkT7duffvppzZs3T7NmzdKWLVv08MMPa8CAAVq9erXDcR599FFNnjxZqampatSoUbE+46KsX79eI0eO1HPPPaetW7dq2bJlatu2rcvqAYArwgAAXGrQoEGmd+/exhhjWrRoYYYMGWKMMWbRokXmj3+mx48fb+Li4hz6vvrqqyYmJsbhWDExMSYvL8/eVq9ePdOmTRv76/Pnzxt/f3+zYMECY4wxu3btMpLMlClT7PucO3fOREZGmqlTpxpjjHnmmWdM165dHcbeu3evkWS2bt1qjDGmXbt2pnHjxn/5fiMiIsyLL77o0Na8eXPz4IMP2l/HxcWZ8ePHX/I4gwYNMhUrVjT+/v7Gx8fHSDKSzPTp0+37REVFmY8++sih3/PPP29atmxpjDHmyJEjxsPDw6xZs8a+vWXLluaRRx6xv46JiTGvvvqqMcaYFStWmMDAQJOdne1wzFq1apnZs2cbY4wZM2aM6dmzpzHGmBkzZph+/fqZJk2amK+++soYY0zdunXNrFmzjDHGPPTQQ6Zjx44mPz//ku/1j+85ODjYnD592t42a9YsU6lSJZOXl2eysrKMj4+PWbdunUO/oUOHmrvuussYY8yqVauMJLN48eJLjlUwLzZt2lRoW+/evc2gQYOMMcZ89tlnJjAw0GRmZhbaz5n1AEBZ4uG6+AYA+LOpU6eqY8eOGjt2bImP0aBBA1Wo8L8LDcLCwtSwYUP764oVKyokJERHjhxx6NeyZUv79x4eHmrWrJlSU1MlSRs2bNCqVatUqVKlQuPt2LFDdevWlSQ1a9bskrVlZmbqwIEDat26tUN769at7ZfEWdGhQwfNmjVLZ86c0dy5c/X777/roYceknThsry9e/dq6NCh+sc//mHvc/78eQUFBUm6cL9Tly5d9OGHH6pNmzbatWuXfvjhB82aNavI8TZs2KCsrKxC92mdPXtWO3bskHThssZ33nlH+fn5Wr16tTp16qTo6GitXr1aTZo00e+//24/EzV48GB16dJF9erV06233qqePXuqa9eul3zPcXFxDvdotWzZUllZWdq7d6+OHDmi7OzsQpdS5ubm6oYbbnBo+6ufVXF16dJFMTExuvbaa3Xrrbfq1ltvVZ8+feTn56eUlJQrXg8AXAmEKAAoQ9q2batbbrlFTz75ZKHVzypUqOBw2ZkknTt3rtAx/ng5m3ThHqOi2vLz8/+ynoLVAfPz89WrVy9NnTq10D4F9/dIkr+//18e84/HLWCMKdFKhP7+/qpdu7akC5fGdejQQRMnTtTzzz9vf39vv/22brrpJod+FStWtH9/zz33aNSoUXrjjTf00UcfqUGDBoqLiytyvPz8fFWvXr3Q/WKSVLlyZUkXfoanTp3Sxo0btXbtWj3//POKiorSpEmT1LhxY1WrVk3XXXedJKlJkybatWuX/vOf/+ibb77R3//+d3Xu3NnhnqHi+uPP9KuvvlKNGjUctnt7ezu8/qufVUHQPHnyZKFtJ06cUExMjCQpICBAGzdu1Lfffquvv/5azz77rCZMmKCkpCSn1gMAZQkhCgDKmClTpqhx48b2szsFqlatqkOHDjkEDmc+2+nHH3+038ty/vx5bdiwQSNGjJB04R/7n332ma655hp5eJT8/zoCAwMVERGh7777zuG+mXXr1unGG2+8vDegC0ujd+vWTf/3f/+niIgI1ahRQzt37tQ999xz0T633367HnjgAS1btkwfffSRBg4ceNF9mzRpokOHDsnDw+Oi9y4V3Bf15ptvymazKTY2VhEREdq0aZOWLFlS6F6rwMBA9e/fX/3791e/fv1066236tixYwoODi7y+D///LPOnj0rX19fSRd+bpUqVVJkZKSqVKkib29vpaWlFXlPlxVVqlRR1apVlZSU5HCss2fPasuWLQ73w3l4eKhz587q3Lmzxo8fr8qVK2vlypXq0qWL0+oBgLKEEAUAZcz111+ve+65R2+88YZDe/v27XX06FG99NJL6tevn5YtW6b//Oc/CgwMdMq4CQkJqlOnjq677jq9+uqrOn78uIYMGSJJio+P19tvv6277rpLjzzyiEJDQ7V9+3Z9/PHHevvttx3O7PyVRx55ROPHj1etWrXUuHFjzZs3T8nJyfrwww8v+z20b99eDRo00KRJk/Tmm29qwoQJGjlypAIDA9WtWzfl5ORo/fr1On78uMaMGSPpwhmQ3r1765lnnlFqaqruvvvuix6/c+fOatmypW6//XZNnTpV9erV04EDB7R06VLdfvvt9kvS2rdvr9dee019+vSRzWZTlSpVFBsbq4ULF+r111+3H+/VV19V9erV1bhxY1WoUEGffvqpwsPD7We1ipKbm6uhQ4fq6aef1p49ezR+/HiNGDFCFSpUUEBAgMaNG6eHH35Y+fn5uvnmm5WZmal169apUqVKGjRokKXPc9y4cfaVHlu1aqXjx49r6tSp8vDw0IABAyRJS5Ys0c6dO9W2bVtVqVJFS5cuVX5+vurVq+f0egCgrCBEAUAZ9Pzzz+uTTz5xaLvuuus0c+ZMTZo0Sc8//7zuuOMOjRs3TnPmzHHKmFOmTNHUqVO1adMm1apVS//+978VGhoqSYqIiND333+vxx57TLfccotycnIUExOjW2+91eH+q+IYOXKkMjMzNXbsWB05ckSxsbH64osvVKdOHae8jzFjxui+++7TY489pmHDhsnPz08vv/yyHn30Ufn7++v666/X6NGjHfrcc8896tGjh9q2bavo6OiLHttms2np0qV66qmnNGTIEB09elTh4eFq27atwsLC7Pt16NBB06dPV/v27e1t7dq1U3JyssMZmUqVKmnq1Knatm2bKlasqObNm2vp0qWX/Ew7deqkOnXqqG3btsrJydGdd97psAz8888/r2rVqmny5MnauXOnKleurCZNmujJJ58s/of4/40bN06VKlXSK6+8oh07dqhy5cpq0aKF1q5daw/vlStX1ueff64JEyYoOztbderU0YIFC9SgQQOn1wMAZYXN/PkCewAAUCYNHjxYJ06c0OLFi11dCgC4NZ4TBQAAAAAWEKIAAAAAwAIu5wMAAAAACzgTBQAAAAAWEKIAAAAAwAJCFAAAAABYQIgCAAAAAAsIUQAAAABgASEKAAAAACwgRAEAAACABYQoAAAAALDg/wHmmDje5L38owAAAABJRU5ErkJggg=="
     },
     "metadata": {},
     "output_type": "display_data"
    }
   ],
   "execution_count": 15
  },
  {
   "cell_type": "code",
   "metadata": {}
   },
   "source": [
    "# (e) Review lengths and outliers\n",
    "if 'reviewText' in df.columns:\n",
    "    df['review_length'] = df['reviewText'].apply(lambda x: len(x.split()) if isinstance(x, str) else 0)\n",
    "    print(\"Review Length Summary:\")\n",
    "    print(df['review_length'].describe())\n",
    "\n",
    "    # Plot review length distribution\n",
    "    plt.figure(figsize=(10,5))\n",
    "    plt.hist(df['review_length'], bins=50, edgecolor='black', log=True)\n",
    "    plt.xlabel('Review Length (Word Count)')\n",
    "    plt.ylabel('Frequency (Log Scale)')\n",
    "    plt.title('Distribution of Review Lengths')\n",
    "    plt.show()\n"
   ],
   "outputs": [
    {
     "name": "stdout",
     "output_type": "stream",
     "text": [
      "Review Length Summary:\n",
      "count    12805.000000\n",
      "mean       175.384615\n",
      "std        257.134085\n",
      "min          0.000000\n",
      "25%         33.000000\n",
      "50%         98.000000\n",
      "75%        221.000000\n",
      "max       5118.000000\n",
      "Name: review_length, dtype: float64\n"
     ]
    },
    {
     "data": {
      "text/plain": [
       "<Figure size 1000x500 with 1 Axes>"
      ],
      "image/png": "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"
     },
     "metadata": {},
     "output_type": "display_data"
    }
   ],
   "execution_count": 16
  },
  {
   "cell_type": "code",
   "metadata": {}
   },
   "source": [
    "# (f) Identify outliers in review length\n",
    "q1 = df['review_length'].quantile(0.25)\n",
    "q3 = df['review_length'].quantile(0.75)\n",
    "iqr = q3 - q1\n",
    "lower_bound = q1 - 1.5 * iqr\n",
    "upper_bound = q3 + 1.5 * iqr\n",
    "\n",
    "outliers = df[(df['review_length'] < lower_bound) | (df['review_length'] > upper_bound)]\n",
    "print(f\"Number of Review Length Outliers: {len(outliers)}\")\n"
   ],
   "outputs": [
    {
     "name": "stdout",
     "output_type": "stream",
     "text": [
      "Number of Review Length Outliers: 869\n"
     ]
    }
   ],
   "execution_count": 17
  },
  {
   "cell_type": "code",
   "metadata": {}
   },
   "source": [
    "# (g) Check for duplicate reviews\n",
    "if 'reviewText' in df.columns:\n",
    "    duplicate_reviews = df.duplicated(subset=['reviewerID', 'asin', 'reviewText'], keep=False)\n",
    "    num_duplicates = duplicate_reviews.sum()\n",
    "    print(f\"Number of Duplicate Reviews: {num_duplicates}\")\n",
    "    \n",
    "    # Display some duplicate entries if they exist\n",
    "    if num_duplicates > 0:\n",
    "        print(df[duplicate_reviews].head(10))\n"
   ],
   "outputs": [
    {
     "name": "stdout",
     "output_type": "stream",
     "text": [
      "Number of Duplicate Reviews: 1676\n",
      "      overall  verified   reviewTime      reviewerID        asin style  \\\n",
      "409       5.0      True  04 11, 2006  A3ATKIU6MZZ4MU  B00005LBVS   NaN   \n",
      "410       4.0      True  04 11, 2006  A3ATKIU6MZZ4MU  B00005LBVS   NaN   \n",
      "411       4.0      True  04 11, 2006  A3ATKIU6MZZ4MU  B00005LBVS   NaN   \n",
      "412       4.0      True  04 11, 2006  A3ATKIU6MZZ4MU  B00005LBVS   NaN   \n",
      "850       5.0     False  11 29, 2013   A6XDZ1MJ0B1A2  B00022PTI4   NaN   \n",
      "851       5.0     False  11 29, 2013   A6XDZ1MJ0B1A2  B00022PTI4   NaN   \n",
      "946       5.0     False  06 16, 2005  A3UV7L5ND3EH8T  B00099YLPM   NaN   \n",
      "947       5.0     False  06 16, 2005  A3UV7L5ND3EH8T  B00099YLPM   NaN   \n",
      "948       5.0     False  06 16, 2005  A3UV7L5ND3EH8T  B00099YLPM   NaN   \n",
      "1295      3.0     False   03 1, 2008  A1T1YSCDW0PD25  B000ES4PYU   NaN   \n",
      "\n",
      "       reviewerName                                         reviewText  \\\n",
      "409          MElise  I was very happy with this game- it took the b...   \n",
      "410          MElise  I was very happy with this game- it took the b...   \n",
      "411          MElise  I was very happy with this game- it took the b...   \n",
      "412          MElise  I was very happy with this game- it took the b...   \n",
      "850   Gene P. Louie  This is the best Windows operating system ever...   \n",
      "851   Gene P. Louie  This is the best Windows operating system ever...   \n",
      "946     Janet Boyer  It has been said that the biggest cause of str...   \n",
      "947     Janet Boyer  It has been said that the biggest cause of str...   \n",
      "948     Janet Boyer  It has been said that the biggest cause of str...   \n",
      "1295     Lantana Al  Seems like it would be a great product if the ...   \n",
      "\n",
      "                                       summary  unixReviewTime vote image  \\\n",
      "409                                Fun fun fun      1144713600    7   NaN   \n",
      "410                                Fun fun fun      1144713600   31   NaN   \n",
      "411                  Fun for everyone involved      1144713600   99   NaN   \n",
      "412                  Fun for everyone involved      1144713600   18   NaN   \n",
      "850                                My Favorite      1385683200    2   NaN   \n",
      "851                                 I Love It.      1385683200  NaN   NaN   \n",
      "946        An Amazing \"Inner-Active\" Adventure      1118880000   26   NaN   \n",
      "947        An Amazing \"Inner-Active\" Adventure      1118880000   84   NaN   \n",
      "948   Groundbreaking Tool For Stress Reduction      1118880000   24   NaN   \n",
      "1295                         Terrible software      1204329600  NaN   NaN   \n",
      "\n",
      "      review_length  \n",
      "409             172  \n",
      "410             172  \n",
      "411             172  \n",
      "412             172  \n",
      "850              20  \n",
      "851              20  \n",
      "946             958  \n",
      "947             958  \n",
      "948             958  \n",
      "1295             72  \n"
     ]
    }
   ],
   "execution_count": 18
  },
  {
   "cell_type": "markdown",
   "metadata": {},
   "source": [
    "#### 2. Text Basic Pre-Processing\n"
   ]
  },
  {
   "cell_type": "code",
   "metadata": {}
   },
   "source": [
    "## (a) Label your data based on the value of “rating of the product” i.e. as follows:\n",
    "## i. Ratings 4,5: Positive\n",
    "## ii. Rating 3: Neutral\n",
    "## iii. Ratings 1,2: Negative\n",
    "\n",
    "df['label'] = df['overall'].apply(lambda x: 'Positive' if x in [4, 5] else 'Neutral' if x == 3 else 'Negative')\n",
    "print(df['label'].value_counts())\n"
   ],
   "outputs": [
    {
     "name": "stdout",
     "output_type": "stream",
     "text": [
      "label\n",
      "Positive    8988\n",
      "Negative    2219\n",
      "Neutral     1598\n",
      "Name: count, dtype: int64\n"
     ]
    }
   ],
   "execution_count": 19
  },
  {
   "cell_type": "code",
   "metadata": {}
   },
   "source": [
    "## (b) Chose the appropriate columns for your sentiment analyzer. (Give this some thought) and mention in your report why you chose each column.\n",
    "## I will choose the 'reviewText' column as the main feature for sentiment analysis, as it contains the actual text content of the reviews.\n",
    "## The 'label' column will be used as the target variable for sentiment classification.\n"
   ],
   "outputs": [],
   "execution_count": 20
  },
  {
   "cell_type": "code",
   "metadata": {}
   },
   "source": [
    "## (c) c. Check for outliers\n",
    "import numpy as np\n",
    "import seaborn as sns\n",
    "import matplotlib.pyplot as plt\n",
    "\n",
    "# Using IQR method to detect outliers\n",
    "Q1 = df['overall'].quantile(0.25)\n",
    "Q3 = df['overall'].quantile(0.75)\n",
    "IQR = Q3 - Q1\n",
    "\n",
    "# Define lower and upper bound\n",
    "lower_bound = Q1 - 1.5 * IQR\n",
    "upper_bound = Q3 + 1.5 * IQR\n",
    "\n",
    "# Detect outliers\n",
    "outliers = df[(df['overall'] < lower_bound) | (df['overall'] > upper_bound)]\n",
    "print(\"Number of outliers detected using IQR:\", len(outliers))\n",
    "\n",
    "# Using Z-score method\n",
    "from scipy.stats import zscore\n",
    "df['z_score'] = zscore(df['overall'])\n",
    "outliers_z = df[np.abs(df['z_score']) > 3]\n",
    "print(\"Number of outliers detected using Z-score:\", len(outliers_z))\n",
    "\n",
    "# Visualizing outliers using a boxplot\n",
    "plt.figure(figsize=(8, 5))\n",
    "sns.boxplot(x=df['overall'])\n",
    "plt.title('Boxplot of Ratings')\n",
    "plt.show()\n"
   ],
   "outputs": [
    {
     "name": "stdout",
     "output_type": "stream",
     "text": [
      "Number of outliers detected using IQR: 0\n",
      "Number of outliers detected using Z-score: 0\n"
     ]
    },
    {
     "data": {
      "text/plain": [
       "<Figure size 800x500 with 1 Axes>"
      ],
      "image/png": "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"
     },
     "metadata": {},
     "output_type": "display_data"
    }
   ],
   "execution_count": 32
  },
  {
   "cell_type": "markdown",
   "metadata": {},
   "source": [
    "#### 3. Study the below three Lexicons packages and choose two for model building justify why you chose them:\n",
    "\n",
    "i. Valence Aware Dictionary and Sentiment Reasoner (VADR) you can find\n",
    "out more information here: https://github.com/cjhutto/vaderSentiment\n",
    "\n",
    "ii. TextBlob you can find out more information here:\n",
    "https://textblob.readthedocs.io/en/dev/quickstart.html\n",
    "\n",
    "iii. SENTIWORDNET you can find more information here:\n",
    "http://nmis.isti.cnr.it/sebastiani/Publications/LREC10.pdf"
   ]
  },
  {
   "cell_type": "markdown",
   "metadata": {
    "vscode": {
     "languageId": "markdown"
    }
   },
   "source": []
  },
  {
   "cell_type": "code",
   "metadata": {
    "ExecuteTime": {
     "end_time": "2025-02-23T16:05:30.292608Z",
     "start_time": "2025-02-23T16:05:30.289247Z"
    }
   },
   "source": [
    "## Based on the three lexicon packages VADR, TextBlob and Sentiwordnet, the two that I would use are TextBlob and Sentiwordnet.\n",
    "## TextBlob is a simple and easy-to-use library for processing textual data, and it provides a sentiment analysis function that can classify text as positive, negative, or neutral.\n",
    "## Sentiwordnet is a lexical resource that assigns sentiment scores to words based on their positive, negative, and neutral meanings. It can be used to calculate the overall sentiment of a piece of text based on the sentiment scores of individual words.\n",
    "\n",
    "## These are justified choices because they are widely used and have been shown to be effective in sentiment analysis tasks. They also provide a good balance between simplicity and accuracy, making them suitable for this project.\n",
    "\n",
    "## VADER is another popular lexicon-based sentiment analysis tool, but it is more suited for social media text and informal language, which may not be the case for product reviews. Therefore, I would prefer TextBlob and Sentiwordnet for this specific task.\n"
   ],
   "outputs": [],
   "execution_count": 22
  },
  {
   "cell_type": "markdown",
   "metadata": {},
   "source": [
    "#### 4. Pre-process your text as needed, justify each pre-processing step for each model you chose. (Note: take into account the findings of step #3 above)"
   ]
  },
  {
   "cell_type": "code",
   "metadata": {}
   },
   "source": [
    "df['reviewText'] = df['reviewText'].astype(str)"
   ],
   "outputs": [],
   "execution_count": 23
  },
  {
   "cell_type": "code",
   "metadata": {}
   },
   "source": [
    "##\n",
    "##Pre-process text\n",
    "##Tokenize text\n",
    "##Remove stop words\n",
    "\n",
    "## (a) Pre-process text\n",
    "import re\n",
    "import string\n",
    "from nltk.corpus import stopwords\n",
    "from nltk.tokenize import word_tokenize\n",
    "from nltk.stem import WordNetLemmatizer\n",
    "\n",
    "def preprocess_text(text):\n",
    "    # Convert text to lowercase\n",
    "    text = text.lower()\n",
    "    # Remove numbers\n",
    "    text = re.sub(r'\\d+', '', text)\n",
    "    # Remove punctuation\n",
    "    text = text.translate(str.maketrans('', '', string.punctuation))\n",
    "    return text\n",
    "\n",
    "# Apply text pre-processing to the 'reviewText' column\n",
    "df['cleaned_review'] = df['reviewText'].apply(preprocess_text)\n",
    "print(df['cleaned_review'].head())\n",
    "\n",
    "\n"
   ],
   "outputs": [
    {
     "name": "stdout",
     "output_type": "stream",
     "text": [
      "0    ive been using dreamweaver and its predecessor...\n",
      "1    the demo is done with the pc version with refe...\n",
      "2    if youve been wanting to learn how to create y...\n",
      "3    ive been creating websites with dreamweaver fo...\n",
      "4    i decided after trying a number of other produ...\n",
      "Name: cleaned_review, dtype: object\n"
     ]
    }
   ],
   "execution_count": 24
  },
  {
   "cell_type": "markdown",
   "metadata": {},
   "source": [
    "#### 5. Randomly select 1000 reviews from your dataset.\n"
   ]
  },
  {
   "cell_type": "code",
   "metadata": {}
   },
   "source": [
    "## Randomaly select 1000 Reviews from your dataset\n",
    "sample_df = df.sample(n=1000, random_state=1)\n",
    "print(sample_df['label'].value_counts())\n",
    "\n"
   ],
   "outputs": [
    {
     "name": "stdout",
     "output_type": "stream",
     "text": [
      "label\n",
      "Positive    705\n",
      "Negative    175\n",
      "Neutral     120\n",
      "Name: count, dtype: int64\n"
     ]
    }
   ],
   "execution_count": 25
  },
  {
   "cell_type": "markdown",
   "metadata": {},
   "source": [
    "\n",
    "#### 6. Modeling (Sentiment Analysis) Lexicon approach:\n"
   ]
  },
  {
   "cell_type": "code",
   "metadata": {}
   },
   "source": [
    "\n",
    "## a) Build two sentiment analysis models using the labeled pre-processed data for\n",
    "## both the lexicons packages the team selected in step #3 above.\n",
    "\n",
    "## TextBlob Sentiment Analysis\n",
    "from textblob import TextBlob\n",
    "\n",
    "def textblob_sentiment(text):\n",
    "    analysis = TextBlob(text)\n",
    "    sentiment = analysis.sentiment.polarity\n",
    "    return 'Positive' if sentiment > 0 else 'Negative' if sentiment < 0 else 'Neutral'\n",
    "\n",
    "\n",
    "sample_df['textblob_prediction'] = sample_df['cleaned_review'].apply(textblob_sentiment)\n",
    "print(sample_df['textblob_prediction'].value_counts())\n"
   ],
   "outputs": [
    {
     "name": "stdout",
     "output_type": "stream",
     "text": [
      "textblob_prediction\n",
      "Positive    851\n",
      "Negative     98\n",
      "Neutral      51\n",
      "Name: count, dtype: int64\n"
     ]
    }
   ],
   "execution_count": 26
  },
  {
   "cell_type": "code",
   "metadata": {}
   },
   "source": [
    "\n",
    "## Sentiwordnet Sentiment Analysis\n",
    "from nltk.corpus import sentiwordnet as swn\n",
    "import nltk\n",
    "\n",
    "nltk.download('punkt')\n",
    "nltk.download('sentiwordnet')\n",
    "nltk.download('wordnet')\n",
    "\n",
    "def sentiwordnet_sentiment(text):\n",
    "    pos_score = 0\n",
    "    neg_score = 0\n",
    "    tokens = word_tokenize(text)\n",
    "    for token in tokens:\n",
    "        synsets = list(swn.senti_synsets(token))\n",
    "        for synset in synsets:\n",
    "            pos_score += synset.pos_score()\n",
    "            neg_score += synset.neg_score()\n",
    "    sentiment = pos_score - neg_score\n",
    "    return 'Positive' if sentiment > 0 else 'Negative' if sentiment < 0 else 'Neutral'\n",
    "\n",
    "\n",
    "sample_df['sentiwordnet_prediction'] = sample_df['cleaned_review'].apply(sentiwordnet_sentiment)\n",
    "print(sample_df['sentiwordnet_prediction'].value_counts())"
   ],
   "outputs": [
    {
     "name": "stderr",
     "output_type": "stream",
     "text": [
      "[nltk_data] Downloading package punkt to\n",
      "[nltk_data]     C:\\Users\\dmitr\\AppData\\Roaming\\nltk_data...\n",
      "[nltk_data]   Package punkt is already up-to-date!\n",
      "[nltk_data] Downloading package sentiwordnet to\n",
      "[nltk_data]     C:\\Users\\dmitr\\AppData\\Roaming\\nltk_data...\n",
      "[nltk_data]   Package sentiwordnet is already up-to-date!\n",
      "[nltk_data] Downloading package wordnet to\n",
      "[nltk_data]     C:\\Users\\dmitr\\AppData\\Roaming\\nltk_data...\n"
     ]
    },
    {
     "name": "stdout",
     "output_type": "stream",
     "text": [
      "sentiwordnet_prediction\n",
      "Positive    851\n",
      "Negative    140\n",
      "Neutral       9\n",
      "Name: count, dtype: int64\n"
     ]
    }
   ],
   "execution_count": 30
  },
  {
   "cell_type": "markdown",
   "metadata": {},
   "source": [
    "\n",
    "#### 7. Validate the results of both models and provide a comparision table.\n"
   ]
  },
  {
   "cell_type": "code",
   "metadata": {}
   },
   "source": [
    "## Validate the results of both models and provide a comparison table\n",
    "\n",
    "## Validation of TextBlob Sentiment Analysis\n",
    "textblob_correct = (sample_df['textblob_prediction'] == sample_df['label']).sum()\n",
    "textblob_accuracy = textblob_correct / len(sample_df) * 100\n",
    "print(f\"TextBlob Sentiment Analysis Accuracy: {textblob_accuracy:.2f}%\")\n",
    "\n",
    "## Validation of Sentiwordnet Sentiment Analysis\n",
    "sentiwordnet_correct = (sample_df['sentiwordnet_prediction'] == sample_df['label']).sum()\n",
    "sentiwordnet_accuracy = sentiwordnet_correct / len(sample_df) * 100\n",
    "print(f\"Sentiwordnet Sentiment Analysis Accuracy: {sentiwordnet_accuracy:.2f}%\")\n",
    "\n",
    "## Comparison Table\n",
    "comparison_df = pd.DataFrame({\n",
    "    'Sentiment Label': sample_df['label'],\n",
    "    'TextBlob Prediction': sample_df['textblob_prediction'],\n",
    "    'Sentiwordnet Prediction': sample_df['sentiwordnet_prediction']\n",
    "})\n",
    "print(comparison_df.head(10))\n",
    "\n",
    "\n"
   ],
   "outputs": [
    {
     "name": "stdout",
     "output_type": "stream",
     "text": [
      "TextBlob Sentiment Analysis Accuracy: 68.00%\n",
      "Sentiwordnet Sentiment Analysis Accuracy: 69.00%\n",
      "      Sentiment Label TextBlob Prediction Sentiwordnet Prediction\n",
      "3267         Positive            Positive                Positive\n",
      "2131         Negative            Positive                Positive\n",
      "1557         Negative            Positive                Positive\n",
      "209          Positive            Positive                Positive\n",
      "2863         Positive            Positive                Positive\n",
      "9985         Positive            Positive                Positive\n",
      "11920        Positive            Positive                Positive\n",
      "2519         Positive            Positive                Positive\n",
      "4297         Positive            Positive                Negative\n",
      "1814         Positive            Positive                Positive\n"
     ]
    }
   ],
   "execution_count": 31
  },
  {
   "cell_type": "markdown",
   "metadata": {},
   "source": [
    "\n",
    "#### 8. Presentation: Check project presentation requirements.\n"
   ]
  },
  {
   "cell_type": "markdown",
   "metadata": {},
   "source": [
    "\n",
    "#### 9. Project report: Check project report requirements/ phase #1 (Make sure you refernce your work)\n"
   ]
  },
  {
   "cell_type": "markdown",
   "metadata": {},
   "source": [
    "\n",
    "#### 10. Submit documented code."
   ]
  }
 ],
 "metadata": {
  "kernelspec": {
   "display_name": "Python 3",
   "language": "python",
   "name": "python3"
  },
  "language_info": {
   "codemirror_mode": {
    "name": "ipython",
    "version": 3
   },
   "file_extension": ".py",
   "mimetype": "text/x-python",
   "name": "python",
   "nbconvert_exporter": "python",
   "pygments_lexer": "ipython3",
   "version": "3.12.1"
  }
 },
 "nbformat": 4,
 "nbformat_minor": 2
}
